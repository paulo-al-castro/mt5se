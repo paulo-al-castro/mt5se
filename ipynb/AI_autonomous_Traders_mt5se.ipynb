{
 "metadata": {
  "language_info": {
   "codemirror_mode": {
    "name": "ipython",
    "version": 3
   },
   "file_extension": ".py",
   "mimetype": "text/x-python",
   "name": "python",
   "nbconvert_exporter": "python",
   "pygments_lexer": "ipython3",
   "version": "3.7.6"
  },
  "orig_nbformat": 2,
  "kernelspec": {
   "name": "python376jvsc74a57bd0e746eafcc9c3755c618fd70b7289e2c77c6dfaa86036ed9f41128bb78d1ac1c4",
   "display_name": "Python 3.7.6 64-bit (conda)"
  },
  "metadata": {
   "interpreter": {
    "hash": "e746eafcc9c3755c618fd70b7289e2c77c6dfaa86036ed9f41128bb78d1ac1c4"
   }
  }
 },
 "nbformat": 4,
 "nbformat_minor": 2,
 "cells": [
  {
   "source": [
    "# Building AI based Autonomous Traders using mt5se\n",
    "\n",
    "### For an introduction to mt5se, see: https://paulo-al-castro.github.io/mt5se/\n"
   ],
   "cell_type": "markdown",
   "metadata": {}
  },
  {
   "cell_type": "code",
   "execution_count": null,
   "metadata": {},
   "outputs": [],
   "source": [
    "# installing Metatrader5 using sys\n",
    "import sys\n",
    "# python MetaTrader5\n",
    "#!{sys.executable} -m pip install MetaTrader5\n",
    "#mt5b3 \n",
    "!{sys.executable} -m pip install mt5se --upgrade"
   ]
  },
  {
   "cell_type": "code",
   "execution_count": 2,
   "metadata": {},
   "outputs": [
    {
     "output_type": "stream",
     "name": "stdout",
     "text": [
      "Ok!! It is connected to se exchange!!\n"
     ]
    }
   ],
   "source": [
    "import mt5se as se\n",
    "import pandas as pd\n",
    "connected=se.connect()\n",
    "if connected:\n",
    "    print('Ok!! It is connected to se exchange!!')\n",
    "else:\n",
    "    print('Something went wrong! It is NOT connected to se!!')\n",
    "\n"
   ]
  },
  {
   "source": [
    "## Let's create a Simple Trader based on AI (decision tree)"
   ],
   "cell_type": "markdown",
   "metadata": {}
  },
  {
   "cell_type": "code",
   "execution_count": 3,
   "metadata": {},
   "outputs": [
    {
     "output_type": "stream",
     "name": "stdout",
     "text": [
      "<__main__.SimpleAITrader object at 0x000001E4496D3E88>\n"
     ]
    }
   ],
   "source": [
    "## Defines the Simple AI Trader\n",
    "from sklearn import tree\n",
    "from sklearn.preprocessing import KBinsDiscretizer\n",
    "\n",
    "class SimpleAITrader(se.Trader):\n",
    "\n",
    "    def setup(self,dbars):\n",
    "        assets=list(dbars.keys())\n",
    "        if len(assets)!=1:\n",
    "            print('Error, this trader is supposed to deal with just one asset')\n",
    "            return None\n",
    "        bars=dbars[assets[0]]\n",
    "        # remove irrelevant info\n",
    "        if 'time' in bars:\n",
    "            del bars['time']\n",
    "        timeFrame=10 # it takes into account the last 10 bars\n",
    "        horizon=1 # it project the closing price for next bar\n",
    "        target='close' # name of the target column\n",
    "        ds=se.ai_utils.bars2Dataset(bars,target,timeFrame,horizon)\n",
    "        \n",
    "        X=se.ai_utils.fromDs2NpArrayAllBut(ds,['target'])\n",
    "        discretizer = KBinsDiscretizer(n_bins=3, encode='ordinal', strategy='uniform') \n",
    "        # creates the discrete target\n",
    "        ds['target']=se.ai_utils.discTarget(discretizer,ds['target'])\n",
    "        Y=se.ai_utils.fromDs2NpArray(ds,['target'])\n",
    "\n",
    "        clf = tree.DecisionTreeClassifier()\n",
    "\n",
    "        clf = clf.fit(X, Y)\n",
    "        self.clf=clf\n",
    "\n",
    "    def trade(self,dbars):\n",
    "            assets=dbars.keys()\n",
    "            orders=[]\n",
    "            timeFrame=10 # it takes into account the last 10 bars\n",
    "            horizon=1 # it project the closing price for next bar\n",
    "            target='close' # name of the target column\n",
    "            money=se.get_balance()/len(assets) # shares the balance equally among the assets\n",
    "            for asset in assets:\n",
    "                bars=dbars[asset]\n",
    "                curr_shares=se.get_shares(asset)\n",
    "                price=se.get_last(bars)\n",
    "                free_shares=se.get_affor_shares(asset,price,money)\n",
    "                # get new information (bars), transform it in X\n",
    "                bars=dbars[asset]\n",
    "                #remove irrelevant info\n",
    "                if 'time' in bars:\n",
    "                    del bars['time']\n",
    "                # convert from bars to dataset\n",
    "                ds=se.ai_utils.bars2Dataset(bars,target,timeFrame,horizon)\n",
    "                # Get X fields\n",
    "                X=se.ai_utils.fromDs2NpArrayAllBut(ds,['target'])\n",
    "\n",
    "                # predict the result, using the latest info\n",
    "                p=self.clf.predict([X[-1]])\n",
    "                if p==2:\n",
    "                    #buy it\n",
    "                    order=se.buyOrder(asset,free_shares)\n",
    "                elif p==0:\n",
    "                    #sell it\n",
    "                    order=se.sellOrder(asset,curr_shares)\n",
    "                else:\n",
    "                    order=None\n",
    "                if order!=None:\n",
    "                    orders.append(order)\n",
    "            return orders    \n",
    "\n",
    "# creates instance of the Simple AI Trading\n",
    "trader=SimpleAITrader()  # also available in se.sampleTraders.SimpleAITrader()\n",
    "print(trader)\n"
   ]
  },
  {
   "source": [
    "## Setup a backtest!"
   ],
   "cell_type": "markdown",
   "metadata": {}
  },
  {
   "cell_type": "code",
   "execution_count": 6,
   "metadata": {},
   "outputs": [
    {
     "output_type": "stream",
     "name": "stdout",
     "text": [
      "Backtest Setup is Ok!\n"
     ]
    }
   ],
   "source": [
    "# sets Backtest options \n",
    "prestart=se.date(2018,12,10)\n",
    "start=se.date(2019,1,10)\n",
    "end=se.date(2019,2,27)\n",
    "capital=100000\n",
    "results_file='data_equity_file.csv'\n",
    "verbose=False \n",
    "assets=['GOOG']\n",
    "# Use True if you want debug information for your Trader \n",
    "#sets the backtest setup\n",
    "period=se.DAILY \n",
    " # it may be se.INTRADAY (one minute interval)\n",
    "bts=se.backtest.set(assets,prestart,start,end,period,capital,results_file,verbose)\n",
    "if se.backtest.checkBTS(bts): # check if the backtest setup is ok!\n",
    "    print('Backtest Setup is Ok!')\n",
    "else:\n",
    "    print('Backtest Setup is NOT Ok!')\n",
    "\n",
    "\n"
   ]
  },
  {
   "source": [
    "## Run and evaluate the backtest"
   ],
   "cell_type": "markdown",
   "metadata": {}
  },
  {
   "cell_type": "code",
   "execution_count": 7,
   "metadata": {},
   "outputs": [
    {
     "output_type": "stream",
     "name": "stdout",
     "text": [
      "Esta em backtest. bts= {'verbose': False, 'prestart': datetime.datetime(2018, 12, 10, 0, 0), 'start': datetime.datetime(2019, 1, 10, 0, 0), 'end': datetime.datetime(2019, 2, 27, 0, 0), 'type': 1, 'file': 'data_equity_file.csv', 'assets': ['GOOG'], 'capital': 100000.0, 'shares_GOOG': 0.0, 'curr': 0}\n",
      "Esta em backtest. bts= {'verbose': False, 'prestart': datetime.datetime(2018, 12, 10, 0, 0), 'start': datetime.datetime(2019, 1, 10, 0, 0), 'end': datetime.datetime(2019, 2, 27, 0, 0), 'type': 1, 'file': 'data_equity_file.csv', 'assets': ['GOOG'], 'capital': 1732.479999999996, 'shares_GOOG': 93.0, 'curr': 1}\n",
      "Esta em backtest. bts= {'verbose': False, 'prestart': datetime.datetime(2018, 12, 10, 0, 0), 'start': datetime.datetime(2019, 1, 10, 0, 0), 'end': datetime.datetime(2019, 2, 27, 0, 0), 'type': 1, 'file': 'data_equity_file.csv', 'assets': ['GOOG'], 'capital': 1732.479999999996, 'shares_GOOG': 93.0, 'curr': 2}\n",
      "Esta em backtest. bts= {'verbose': False, 'prestart': datetime.datetime(2018, 12, 10, 0, 0), 'start': datetime.datetime(2019, 1, 10, 0, 0), 'end': datetime.datetime(2019, 2, 27, 0, 0), 'type': 1, 'file': 'data_equity_file.csv', 'assets': ['GOOG'], 'capital': 101800.48, 'shares_GOOG': 0.0, 'curr': 3}\n",
      "Esta em backtest. bts= {'verbose': False, 'prestart': datetime.datetime(2018, 12, 10, 0, 0), 'start': datetime.datetime(2019, 1, 10, 0, 0), 'end': datetime.datetime(2019, 2, 27, 0, 0), 'type': 1, 'file': 'data_equity_file.csv', 'assets': ['GOOG'], 'capital': 224.08000000000175, 'shares_GOOG': 94.0, 'curr': 4}\n",
      "Esta em backtest. bts= {'verbose': False, 'prestart': datetime.datetime(2018, 12, 10, 0, 0), 'start': datetime.datetime(2019, 1, 10, 0, 0), 'end': datetime.datetime(2019, 2, 27, 0, 0), 'type': 1, 'file': 'data_equity_file.csv', 'assets': ['GOOG'], 'capital': 224.08000000000175, 'shares_GOOG': 94.0, 'curr': 5}\n",
      "Esta em backtest. bts= {'verbose': False, 'prestart': datetime.datetime(2018, 12, 10, 0, 0), 'start': datetime.datetime(2019, 1, 10, 0, 0), 'end': datetime.datetime(2019, 2, 27, 0, 0), 'type': 1, 'file': 'data_equity_file.csv', 'assets': ['GOOG'], 'capital': 224.08000000000175, 'shares_GOOG': 94.0, 'curr': 6}\n",
      "Esta em backtest. bts= {'verbose': False, 'prestart': datetime.datetime(2018, 12, 10, 0, 0), 'start': datetime.datetime(2019, 1, 10, 0, 0), 'end': datetime.datetime(2019, 2, 27, 0, 0), 'type': 1, 'file': 'data_equity_file.csv', 'assets': ['GOOG'], 'capital': 224.08000000000175, 'shares_GOOG': 94.0, 'curr': 7}\n",
      "Esta em backtest. bts= {'verbose': False, 'prestart': datetime.datetime(2018, 12, 10, 0, 0), 'start': datetime.datetime(2019, 1, 10, 0, 0), 'end': datetime.datetime(2019, 2, 27, 0, 0), 'type': 1, 'file': 'data_equity_file.csv', 'assets': ['GOOG'], 'capital': 224.08000000000175, 'shares_GOOG': 94.0, 'curr': 8}\n",
      "Esta em backtest. bts= {'verbose': False, 'prestart': datetime.datetime(2018, 12, 10, 0, 0), 'start': datetime.datetime(2019, 1, 10, 0, 0), 'end': datetime.datetime(2019, 2, 27, 0, 0), 'type': 1, 'file': 'data_equity_file.csv', 'assets': ['GOOG'], 'capital': 224.08000000000175, 'shares_GOOG': 94.0, 'curr': 9}\n",
      "Esta em backtest. bts= {'verbose': False, 'prestart': datetime.datetime(2018, 12, 10, 0, 0), 'start': datetime.datetime(2019, 1, 10, 0, 0), 'end': datetime.datetime(2019, 2, 27, 0, 0), 'type': 1, 'file': 'data_equity_file.csv', 'assets': ['GOOG'], 'capital': 224.08000000000175, 'shares_GOOG': 94.0, 'curr': 10}\n",
      "Esta em backtest. bts= {'verbose': False, 'prestart': datetime.datetime(2018, 12, 10, 0, 0), 'start': datetime.datetime(2019, 1, 10, 0, 0), 'end': datetime.datetime(2019, 2, 27, 0, 0), 'type': 1, 'file': 'data_equity_file.csv', 'assets': ['GOOG'], 'capital': 224.08000000000175, 'shares_GOOG': 94.0, 'curr': 11}\n",
      "Esta em backtest. bts= {'verbose': False, 'prestart': datetime.datetime(2018, 12, 10, 0, 0), 'start': datetime.datetime(2019, 1, 10, 0, 0), 'end': datetime.datetime(2019, 2, 27, 0, 0), 'type': 1, 'file': 'data_equity_file.csv', 'assets': ['GOOG'], 'capital': 224.08000000000175, 'shares_GOOG': 94.0, 'curr': 12}\n",
      "Esta em backtest. bts= {'verbose': False, 'prestart': datetime.datetime(2018, 12, 10, 0, 0), 'start': datetime.datetime(2019, 1, 10, 0, 0), 'end': datetime.datetime(2019, 2, 27, 0, 0), 'type': 1, 'file': 'data_equity_file.csv', 'assets': ['GOOG'], 'capital': 224.08000000000175, 'shares_GOOG': 94.0, 'curr': 13}\n",
      "Esta em backtest. bts= {'verbose': False, 'prestart': datetime.datetime(2018, 12, 10, 0, 0), 'start': datetime.datetime(2019, 1, 10, 0, 0), 'end': datetime.datetime(2019, 2, 27, 0, 0), 'type': 1, 'file': 'data_equity_file.csv', 'assets': ['GOOG'], 'capital': 224.08000000000175, 'shares_GOOG': 94.0, 'curr': 14}\n",
      "Esta em backtest. bts= {'verbose': False, 'prestart': datetime.datetime(2018, 12, 10, 0, 0), 'start': datetime.datetime(2019, 1, 10, 0, 0), 'end': datetime.datetime(2019, 2, 27, 0, 0), 'type': 1, 'file': 'data_equity_file.csv', 'assets': ['GOOG'], 'capital': 224.08000000000175, 'shares_GOOG': 94.0, 'curr': 15}\n",
      "Esta em backtest. bts= {'verbose': False, 'prestart': datetime.datetime(2018, 12, 10, 0, 0), 'start': datetime.datetime(2019, 1, 10, 0, 0), 'end': datetime.datetime(2019, 2, 27, 0, 0), 'type': 1, 'file': 'data_equity_file.csv', 'assets': ['GOOG'], 'capital': 224.08000000000175, 'shares_GOOG': 94.0, 'curr': 16}\n",
      "Esta em backtest. bts= {'verbose': False, 'prestart': datetime.datetime(2018, 12, 10, 0, 0), 'start': datetime.datetime(2019, 1, 10, 0, 0), 'end': datetime.datetime(2019, 2, 27, 0, 0), 'type': 1, 'file': 'data_equity_file.csv', 'assets': ['GOOG'], 'capital': 224.08000000000175, 'shares_GOOG': 94.0, 'curr': 17}\n",
      "Esta em backtest. bts= {'verbose': False, 'prestart': datetime.datetime(2018, 12, 10, 0, 0), 'start': datetime.datetime(2019, 1, 10, 0, 0), 'end': datetime.datetime(2019, 2, 27, 0, 0), 'type': 1, 'file': 'data_equity_file.csv', 'assets': ['GOOG'], 'capital': 224.08000000000175, 'shares_GOOG': 94.0, 'curr': 18}\n",
      "Esta em backtest. bts= {'verbose': False, 'prestart': datetime.datetime(2018, 12, 10, 0, 0), 'start': datetime.datetime(2019, 1, 10, 0, 0), 'end': datetime.datetime(2019, 2, 27, 0, 0), 'type': 1, 'file': 'data_equity_file.csv', 'assets': ['GOOG'], 'capital': 224.08000000000175, 'shares_GOOG': 94.0, 'curr': 19}\n",
      "Esta em backtest. bts= {'verbose': False, 'prestart': datetime.datetime(2018, 12, 10, 0, 0), 'start': datetime.datetime(2019, 1, 10, 0, 0), 'end': datetime.datetime(2019, 2, 27, 0, 0), 'type': 1, 'file': 'data_equity_file.csv', 'assets': ['GOOG'], 'capital': 224.08000000000175, 'shares_GOOG': 94.0, 'curr': 20}\n",
      "Esta em backtest. bts= {'verbose': False, 'prestart': datetime.datetime(2018, 12, 10, 0, 0), 'start': datetime.datetime(2019, 1, 10, 0, 0), 'end': datetime.datetime(2019, 2, 27, 0, 0), 'type': 1, 'file': 'data_equity_file.csv', 'assets': ['GOOG'], 'capital': 224.08000000000175, 'shares_GOOG': 94.0, 'curr': 21}\n",
      "Esta em backtest. bts= {'verbose': False, 'prestart': datetime.datetime(2018, 12, 10, 0, 0), 'start': datetime.datetime(2019, 1, 10, 0, 0), 'end': datetime.datetime(2019, 2, 27, 0, 0), 'type': 1, 'file': 'data_equity_file.csv', 'assets': ['GOOG'], 'capital': 224.08000000000175, 'shares_GOOG': 94.0, 'curr': 22}\n",
      "Esta em backtest. bts= {'verbose': False, 'prestart': datetime.datetime(2018, 12, 10, 0, 0), 'start': datetime.datetime(2019, 1, 10, 0, 0), 'end': datetime.datetime(2019, 2, 27, 0, 0), 'type': 1, 'file': 'data_equity_file.csv', 'assets': ['GOOG'], 'capital': 224.08000000000175, 'shares_GOOG': 94.0, 'curr': 23}\n",
      "Esta em backtest. bts= {'verbose': False, 'prestart': datetime.datetime(2018, 12, 10, 0, 0), 'start': datetime.datetime(2019, 1, 10, 0, 0), 'end': datetime.datetime(2019, 2, 27, 0, 0), 'type': 1, 'file': 'data_equity_file.csv', 'assets': ['GOOG'], 'capital': 224.08000000000175, 'shares_GOOG': 94.0, 'curr': 24}\n",
      "Esta em backtest. bts= {'verbose': False, 'prestart': datetime.datetime(2018, 12, 10, 0, 0), 'start': datetime.datetime(2019, 1, 10, 0, 0), 'end': datetime.datetime(2019, 2, 27, 0, 0), 'type': 1, 'file': 'data_equity_file.csv', 'assets': ['GOOG'], 'capital': 224.08000000000175, 'shares_GOOG': 94.0, 'curr': 25}\n",
      "Esta em backtest. bts= {'verbose': False, 'prestart': datetime.datetime(2018, 12, 10, 0, 0), 'start': datetime.datetime(2019, 1, 10, 0, 0), 'end': datetime.datetime(2019, 2, 27, 0, 0), 'type': 1, 'file': 'data_equity_file.csv', 'assets': ['GOOG'], 'capital': 224.08000000000175, 'shares_GOOG': 94.0, 'curr': 26}\n",
      "Esta em backtest. bts= {'verbose': False, 'prestart': datetime.datetime(2018, 12, 10, 0, 0), 'start': datetime.datetime(2019, 1, 10, 0, 0), 'end': datetime.datetime(2019, 2, 27, 0, 0), 'type': 1, 'file': 'data_equity_file.csv', 'assets': ['GOOG'], 'capital': 224.08000000000175, 'shares_GOOG': 94.0, 'curr': 27}\n",
      "Esta em backtest. bts= {'verbose': False, 'prestart': datetime.datetime(2018, 12, 10, 0, 0), 'start': datetime.datetime(2019, 1, 10, 0, 0), 'end': datetime.datetime(2019, 2, 27, 0, 0), 'type': 1, 'file': 'data_equity_file.csv', 'assets': ['GOOG'], 'capital': 224.08000000000175, 'shares_GOOG': 94.0, 'curr': 28}\n",
      "Esta em backtest. bts= {'verbose': False, 'prestart': datetime.datetime(2018, 12, 10, 0, 0), 'start': datetime.datetime(2019, 1, 10, 0, 0), 'end': datetime.datetime(2019, 2, 27, 0, 0), 'type': 1, 'file': 'data_equity_file.csv', 'assets': ['GOOG'], 'capital': 224.08000000000175, 'shares_GOOG': 94.0, 'curr': 29}\n",
      "Esta em backtest. bts= {'verbose': False, 'prestart': datetime.datetime(2018, 12, 10, 0, 0), 'start': datetime.datetime(2019, 1, 10, 0, 0), 'end': datetime.datetime(2019, 2, 27, 0, 0), 'type': 1, 'file': 'data_equity_file.csv', 'assets': ['GOOG'], 'capital': 224.08000000000175, 'shares_GOOG': 94.0, 'curr': 30}\n",
      "Esta em backtest. bts= {'verbose': False, 'prestart': datetime.datetime(2018, 12, 10, 0, 0), 'start': datetime.datetime(2019, 1, 10, 0, 0), 'end': datetime.datetime(2019, 2, 27, 0, 0), 'type': 1, 'file': 'data_equity_file.csv', 'assets': ['GOOG'], 'capital': 224.08000000000175, 'shares_GOOG': 94.0, 'curr': 31}\n",
      "End of backtest with  32  bars,  saving equity file in  data_equity_file.csv\n",
      "\n",
      " -----------------------   Backtest Report  ------------------------------- \n",
      "\n",
      "Total Return (%)=5.15 in 31 bars \n",
      "Average Bar Return (%)=0.17  \n",
      "Std Deviation of returns (%) =1.5263\n",
      "\n",
      " ----------------------        End of Report     -------------------------------- \n",
      "\n"
     ]
    }
   ],
   "source": [
    "# Running the backtest\n",
    "df= se.backtest.run(trader,bts)   \n",
    "# run calls the Trader. setup and trade (one for bar)\n",
    "\n",
    "# evaluates the backtest results\n",
    "se.backtest.evaluate(df)"
   ]
  },
  {
   "cell_type": "code",
   "execution_count": 9,
   "metadata": {
    "tags": [
     "outputPrepend"
    ]
   },
   "outputs": [
    {
     "output_type": "stream",
     "name": "stdout",
     "text": [
      " 31, 0, 0), 'type': 1, 'file': 'data_equity_file.csv', 'assets': ['AAPL'], 'capital': 38.76999999995405, 'shares_AAPL': 556.0, 'curr': 183}\n",
      "Esta em backtest. bts= {'verbose': False, 'prestart': datetime.datetime(2018, 12, 10, 0, 0), 'start': datetime.datetime(2019, 1, 10, 0, 0), 'end': datetime.datetime(2019, 12, 31, 0, 0), 'type': 1, 'file': 'data_equity_file.csv', 'assets': ['AAPL'], 'capital': 38.76999999995405, 'shares_AAPL': 556.0, 'curr': 184}\n",
      "Esta em backtest. bts= {'verbose': False, 'prestart': datetime.datetime(2018, 12, 10, 0, 0), 'start': datetime.datetime(2019, 1, 10, 0, 0), 'end': datetime.datetime(2019, 12, 31, 0, 0), 'type': 1, 'file': 'data_equity_file.csv', 'assets': ['AAPL'], 'capital': 38.76999999995405, 'shares_AAPL': 556.0, 'curr': 185}\n",
      "Esta em backtest. bts= {'verbose': False, 'prestart': datetime.datetime(2018, 12, 10, 0, 0), 'start': datetime.datetime(2019, 1, 10, 0, 0), 'end': datetime.datetime(2019, 12, 31, 0, 0), 'type': 1, 'file': 'data_equity_file.csv', 'assets': ['AAPL'], 'capital': 38.76999999995405, 'shares_AAPL': 556.0, 'curr': 186}\n",
      "Esta em backtest. bts= {'verbose': False, 'prestart': datetime.datetime(2018, 12, 10, 0, 0), 'start': datetime.datetime(2019, 1, 10, 0, 0), 'end': datetime.datetime(2019, 12, 31, 0, 0), 'type': 1, 'file': 'data_equity_file.csv', 'assets': ['AAPL'], 'capital': 38.76999999995405, 'shares_AAPL': 556.0, 'curr': 187}\n",
      "Esta em backtest. bts= {'verbose': False, 'prestart': datetime.datetime(2018, 12, 10, 0, 0), 'start': datetime.datetime(2019, 1, 10, 0, 0), 'end': datetime.datetime(2019, 12, 31, 0, 0), 'type': 1, 'file': 'data_equity_file.csv', 'assets': ['AAPL'], 'capital': 38.76999999995405, 'shares_AAPL': 556.0, 'curr': 188}\n",
      "Esta em backtest. bts= {'verbose': False, 'prestart': datetime.datetime(2018, 12, 10, 0, 0), 'start': datetime.datetime(2019, 1, 10, 0, 0), 'end': datetime.datetime(2019, 12, 31, 0, 0), 'type': 1, 'file': 'data_equity_file.csv', 'assets': ['AAPL'], 'capital': 38.76999999995405, 'shares_AAPL': 556.0, 'curr': 189}\n",
      "Esta em backtest. bts= {'verbose': False, 'prestart': datetime.datetime(2018, 12, 10, 0, 0), 'start': datetime.datetime(2019, 1, 10, 0, 0), 'end': datetime.datetime(2019, 12, 31, 0, 0), 'type': 1, 'file': 'data_equity_file.csv', 'assets': ['AAPL'], 'capital': 38.76999999995405, 'shares_AAPL': 556.0, 'curr': 190}\n",
      "Esta em backtest. bts= {'verbose': False, 'prestart': datetime.datetime(2018, 12, 10, 0, 0), 'start': datetime.datetime(2019, 1, 10, 0, 0), 'end': datetime.datetime(2019, 12, 31, 0, 0), 'type': 1, 'file': 'data_equity_file.csv', 'assets': ['AAPL'], 'capital': 38.76999999995405, 'shares_AAPL': 556.0, 'curr': 191}\n",
      "Esta em backtest. bts= {'verbose': False, 'prestart': datetime.datetime(2018, 12, 10, 0, 0), 'start': datetime.datetime(2019, 1, 10, 0, 0), 'end': datetime.datetime(2019, 12, 31, 0, 0), 'type': 1, 'file': 'data_equity_file.csv', 'assets': ['AAPL'], 'capital': 38.76999999995405, 'shares_AAPL': 556.0, 'curr': 192}\n",
      "Esta em backtest. bts= {'verbose': False, 'prestart': datetime.datetime(2018, 12, 10, 0, 0), 'start': datetime.datetime(2019, 1, 10, 0, 0), 'end': datetime.datetime(2019, 12, 31, 0, 0), 'type': 1, 'file': 'data_equity_file.csv', 'assets': ['AAPL'], 'capital': 38.76999999995405, 'shares_AAPL': 556.0, 'curr': 193}\n",
      "Esta em backtest. bts= {'verbose': False, 'prestart': datetime.datetime(2018, 12, 10, 0, 0), 'start': datetime.datetime(2019, 1, 10, 0, 0), 'end': datetime.datetime(2019, 12, 31, 0, 0), 'type': 1, 'file': 'data_equity_file.csv', 'assets': ['AAPL'], 'capital': 38.76999999995405, 'shares_AAPL': 556.0, 'curr': 194}\n",
      "Esta em backtest. bts= {'verbose': False, 'prestart': datetime.datetime(2018, 12, 10, 0, 0), 'start': datetime.datetime(2019, 1, 10, 0, 0), 'end': datetime.datetime(2019, 12, 31, 0, 0), 'type': 1, 'file': 'data_equity_file.csv', 'assets': ['AAPL'], 'capital': 38.76999999995405, 'shares_AAPL': 556.0, 'curr': 195}\n",
      "Esta em backtest. bts= {'verbose': False, 'prestart': datetime.datetime(2018, 12, 10, 0, 0), 'start': datetime.datetime(2019, 1, 10, 0, 0), 'end': datetime.datetime(2019, 12, 31, 0, 0), 'type': 1, 'file': 'data_equity_file.csv', 'assets': ['AAPL'], 'capital': 38.76999999995405, 'shares_AAPL': 556.0, 'curr': 196}\n",
      "Esta em backtest. bts= {'verbose': False, 'prestart': datetime.datetime(2018, 12, 10, 0, 0), 'start': datetime.datetime(2019, 1, 10, 0, 0), 'end': datetime.datetime(2019, 12, 31, 0, 0), 'type': 1, 'file': 'data_equity_file.csv', 'assets': ['AAPL'], 'capital': 38.76999999995405, 'shares_AAPL': 556.0, 'curr': 197}\n",
      "Esta em backtest. bts= {'verbose': False, 'prestart': datetime.datetime(2018, 12, 10, 0, 0), 'start': datetime.datetime(2019, 1, 10, 0, 0), 'end': datetime.datetime(2019, 12, 31, 0, 0), 'type': 1, 'file': 'data_equity_file.csv', 'assets': ['AAPL'], 'capital': 38.76999999995405, 'shares_AAPL': 556.0, 'curr': 198}\n",
      "Esta em backtest. bts= {'verbose': False, 'prestart': datetime.datetime(2018, 12, 10, 0, 0), 'start': datetime.datetime(2019, 1, 10, 0, 0), 'end': datetime.datetime(2019, 12, 31, 0, 0), 'type': 1, 'file': 'data_equity_file.csv', 'assets': ['AAPL'], 'capital': 38.76999999995405, 'shares_AAPL': 556.0, 'curr': 199}\n",
      "Esta em backtest. bts= {'verbose': False, 'prestart': datetime.datetime(2018, 12, 10, 0, 0), 'start': datetime.datetime(2019, 1, 10, 0, 0), 'end': datetime.datetime(2019, 12, 31, 0, 0), 'type': 1, 'file': 'data_equity_file.csv', 'assets': ['AAPL'], 'capital': 38.76999999995405, 'shares_AAPL': 556.0, 'curr': 200}\n",
      "Esta em backtest. bts= {'verbose': False, 'prestart': datetime.datetime(2018, 12, 10, 0, 0), 'start': datetime.datetime(2019, 1, 10, 0, 0), 'end': datetime.datetime(2019, 12, 31, 0, 0), 'type': 1, 'file': 'data_equity_file.csv', 'assets': ['AAPL'], 'capital': 38.76999999995405, 'shares_AAPL': 556.0, 'curr': 201}\n",
      "Esta em backtest. bts= {'verbose': False, 'prestart': datetime.datetime(2018, 12, 10, 0, 0), 'start': datetime.datetime(2019, 1, 10, 0, 0), 'end': datetime.datetime(2019, 12, 31, 0, 0), 'type': 1, 'file': 'data_equity_file.csv', 'assets': ['AAPL'], 'capital': 38.76999999995405, 'shares_AAPL': 556.0, 'curr': 202}\n",
      "Esta em backtest. bts= {'verbose': False, 'prestart': datetime.datetime(2018, 12, 10, 0, 0), 'start': datetime.datetime(2019, 1, 10, 0, 0), 'end': datetime.datetime(2019, 12, 31, 0, 0), 'type': 1, 'file': 'data_equity_file.csv', 'assets': ['AAPL'], 'capital': 38.76999999995405, 'shares_AAPL': 556.0, 'curr': 203}\n",
      "Esta em backtest. bts= {'verbose': False, 'prestart': datetime.datetime(2018, 12, 10, 0, 0), 'start': datetime.datetime(2019, 1, 10, 0, 0), 'end': datetime.datetime(2019, 12, 31, 0, 0), 'type': 1, 'file': 'data_equity_file.csv', 'assets': ['AAPL'], 'capital': 38.76999999995405, 'shares_AAPL': 556.0, 'curr': 204}\n",
      "Esta em backtest. bts= {'verbose': False, 'prestart': datetime.datetime(2018, 12, 10, 0, 0), 'start': datetime.datetime(2019, 1, 10, 0, 0), 'end': datetime.datetime(2019, 12, 31, 0, 0), 'type': 1, 'file': 'data_equity_file.csv', 'assets': ['AAPL'], 'capital': 38.76999999995405, 'shares_AAPL': 556.0, 'curr': 205}\n",
      "Esta em backtest. bts= {'verbose': False, 'prestart': datetime.datetime(2018, 12, 10, 0, 0), 'start': datetime.datetime(2019, 1, 10, 0, 0), 'end': datetime.datetime(2019, 12, 31, 0, 0), 'type': 1, 'file': 'data_equity_file.csv', 'assets': ['AAPL'], 'capital': 38.76999999995405, 'shares_AAPL': 556.0, 'curr': 206}\n",
      "Esta em backtest. bts= {'verbose': False, 'prestart': datetime.datetime(2018, 12, 10, 0, 0), 'start': datetime.datetime(2019, 1, 10, 0, 0), 'end': datetime.datetime(2019, 12, 31, 0, 0), 'type': 1, 'file': 'data_equity_file.csv', 'assets': ['AAPL'], 'capital': 38.76999999995405, 'shares_AAPL': 556.0, 'curr': 207}\n",
      "Esta em backtest. bts= {'verbose': False, 'prestart': datetime.datetime(2018, 12, 10, 0, 0), 'start': datetime.datetime(2019, 1, 10, 0, 0), 'end': datetime.datetime(2019, 12, 31, 0, 0), 'type': 1, 'file': 'data_equity_file.csv', 'assets': ['AAPL'], 'capital': 38.76999999995405, 'shares_AAPL': 556.0, 'curr': 208}\n",
      "Esta em backtest. bts= {'verbose': False, 'prestart': datetime.datetime(2018, 12, 10, 0, 0), 'start': datetime.datetime(2019, 1, 10, 0, 0), 'end': datetime.datetime(2019, 12, 31, 0, 0), 'type': 1, 'file': 'data_equity_file.csv', 'assets': ['AAPL'], 'capital': 38.76999999995405, 'shares_AAPL': 556.0, 'curr': 209}\n",
      "Esta em backtest. bts= {'verbose': False, 'prestart': datetime.datetime(2018, 12, 10, 0, 0), 'start': datetime.datetime(2019, 1, 10, 0, 0), 'end': datetime.datetime(2019, 12, 31, 0, 0), 'type': 1, 'file': 'data_equity_file.csv', 'assets': ['AAPL'], 'capital': 38.76999999995405, 'shares_AAPL': 556.0, 'curr': 210}\n",
      "Esta em backtest. bts= {'verbose': False, 'prestart': datetime.datetime(2018, 12, 10, 0, 0), 'start': datetime.datetime(2019, 1, 10, 0, 0), 'end': datetime.datetime(2019, 12, 31, 0, 0), 'type': 1, 'file': 'data_equity_file.csv', 'assets': ['AAPL'], 'capital': 38.76999999995405, 'shares_AAPL': 556.0, 'curr': 211}\n",
      "Esta em backtest. bts= {'verbose': False, 'prestart': datetime.datetime(2018, 12, 10, 0, 0), 'start': datetime.datetime(2019, 1, 10, 0, 0), 'end': datetime.datetime(2019, 12, 31, 0, 0), 'type': 1, 'file': 'data_equity_file.csv', 'assets': ['AAPL'], 'capital': 38.76999999995405, 'shares_AAPL': 556.0, 'curr': 212}\n",
      "Esta em backtest. bts= {'verbose': False, 'prestart': datetime.datetime(2018, 12, 10, 0, 0), 'start': datetime.datetime(2019, 1, 10, 0, 0), 'end': datetime.datetime(2019, 12, 31, 0, 0), 'type': 1, 'file': 'data_equity_file.csv', 'assets': ['AAPL'], 'capital': 38.76999999995405, 'shares_AAPL': 556.0, 'curr': 213}\n",
      "Esta em backtest. bts= {'verbose': False, 'prestart': datetime.datetime(2018, 12, 10, 0, 0), 'start': datetime.datetime(2019, 1, 10, 0, 0), 'end': datetime.datetime(2019, 12, 31, 0, 0), 'type': 1, 'file': 'data_equity_file.csv', 'assets': ['AAPL'], 'capital': 38.76999999995405, 'shares_AAPL': 556.0, 'curr': 214}\n",
      "Esta em backtest. bts= {'verbose': False, 'prestart': datetime.datetime(2018, 12, 10, 0, 0), 'start': datetime.datetime(2019, 1, 10, 0, 0), 'end': datetime.datetime(2019, 12, 31, 0, 0), 'type': 1, 'file': 'data_equity_file.csv', 'assets': ['AAPL'], 'capital': 38.76999999995405, 'shares_AAPL': 556.0, 'curr': 215}\n",
      "Esta em backtest. bts= {'verbose': False, 'prestart': datetime.datetime(2018, 12, 10, 0, 0), 'start': datetime.datetime(2019, 1, 10, 0, 0), 'end': datetime.datetime(2019, 12, 31, 0, 0), 'type': 1, 'file': 'data_equity_file.csv', 'assets': ['AAPL'], 'capital': 38.76999999995405, 'shares_AAPL': 556.0, 'curr': 216}\n",
      "Esta em backtest. bts= {'verbose': False, 'prestart': datetime.datetime(2018, 12, 10, 0, 0), 'start': datetime.datetime(2019, 1, 10, 0, 0), 'end': datetime.datetime(2019, 12, 31, 0, 0), 'type': 1, 'file': 'data_equity_file.csv', 'assets': ['AAPL'], 'capital': 38.76999999995405, 'shares_AAPL': 556.0, 'curr': 217}\n",
      "Esta em backtest. bts= {'verbose': False, 'prestart': datetime.datetime(2018, 12, 10, 0, 0), 'start': datetime.datetime(2019, 1, 10, 0, 0), 'end': datetime.datetime(2019, 12, 31, 0, 0), 'type': 1, 'file': 'data_equity_file.csv', 'assets': ['AAPL'], 'capital': 38.76999999995405, 'shares_AAPL': 556.0, 'curr': 218}\n",
      "Esta em backtest. bts= {'verbose': False, 'prestart': datetime.datetime(2018, 12, 10, 0, 0), 'start': datetime.datetime(2019, 1, 10, 0, 0), 'end': datetime.datetime(2019, 12, 31, 0, 0), 'type': 1, 'file': 'data_equity_file.csv', 'assets': ['AAPL'], 'capital': 38.76999999995405, 'shares_AAPL': 556.0, 'curr': 219}\n",
      "Esta em backtest. bts= {'verbose': False, 'prestart': datetime.datetime(2018, 12, 10, 0, 0), 'start': datetime.datetime(2019, 1, 10, 0, 0), 'end': datetime.datetime(2019, 12, 31, 0, 0), 'type': 1, 'file': 'data_equity_file.csv', 'assets': ['AAPL'], 'capital': 38.76999999995405, 'shares_AAPL': 556.0, 'curr': 220}\n",
      "Esta em backtest. bts= {'verbose': False, 'prestart': datetime.datetime(2018, 12, 10, 0, 0), 'start': datetime.datetime(2019, 1, 10, 0, 0), 'end': datetime.datetime(2019, 12, 31, 0, 0), 'type': 1, 'file': 'data_equity_file.csv', 'assets': ['AAPL'], 'capital': 38.76999999995405, 'shares_AAPL': 556.0, 'curr': 221}\n",
      "Esta em backtest. bts= {'verbose': False, 'prestart': datetime.datetime(2018, 12, 10, 0, 0), 'start': datetime.datetime(2019, 1, 10, 0, 0), 'end': datetime.datetime(2019, 12, 31, 0, 0), 'type': 1, 'file': 'data_equity_file.csv', 'assets': ['AAPL'], 'capital': 38.76999999995405, 'shares_AAPL': 556.0, 'curr': 222}\n",
      "Esta em backtest. bts= {'verbose': False, 'prestart': datetime.datetime(2018, 12, 10, 0, 0), 'start': datetime.datetime(2019, 1, 10, 0, 0), 'end': datetime.datetime(2019, 12, 31, 0, 0), 'type': 1, 'file': 'data_equity_file.csv', 'assets': ['AAPL'], 'capital': 38.76999999995405, 'shares_AAPL': 556.0, 'curr': 223}\n",
      "Esta em backtest. bts= {'verbose': False, 'prestart': datetime.datetime(2018, 12, 10, 0, 0), 'start': datetime.datetime(2019, 1, 10, 0, 0), 'end': datetime.datetime(2019, 12, 31, 0, 0), 'type': 1, 'file': 'data_equity_file.csv', 'assets': ['AAPL'], 'capital': 38.76999999995405, 'shares_AAPL': 556.0, 'curr': 224}\n",
      "Esta em backtest. bts= {'verbose': False, 'prestart': datetime.datetime(2018, 12, 10, 0, 0), 'start': datetime.datetime(2019, 1, 10, 0, 0), 'end': datetime.datetime(2019, 12, 31, 0, 0), 'type': 1, 'file': 'data_equity_file.csv', 'assets': ['AAPL'], 'capital': 38.76999999995405, 'shares_AAPL': 556.0, 'curr': 225}\n",
      "Esta em backtest. bts= {'verbose': False, 'prestart': datetime.datetime(2018, 12, 10, 0, 0), 'start': datetime.datetime(2019, 1, 10, 0, 0), 'end': datetime.datetime(2019, 12, 31, 0, 0), 'type': 1, 'file': 'data_equity_file.csv', 'assets': ['AAPL'], 'capital': 38.76999999995405, 'shares_AAPL': 556.0, 'curr': 226}\n",
      "Esta em backtest. bts= {'verbose': False, 'prestart': datetime.datetime(2018, 12, 10, 0, 0), 'start': datetime.datetime(2019, 1, 10, 0, 0), 'end': datetime.datetime(2019, 12, 31, 0, 0), 'type': 1, 'file': 'data_equity_file.csv', 'assets': ['AAPL'], 'capital': 38.76999999995405, 'shares_AAPL': 556.0, 'curr': 227}\n",
      "Esta em backtest. bts= {'verbose': False, 'prestart': datetime.datetime(2018, 12, 10, 0, 0), 'start': datetime.datetime(2019, 1, 10, 0, 0), 'end': datetime.datetime(2019, 12, 31, 0, 0), 'type': 1, 'file': 'data_equity_file.csv', 'assets': ['AAPL'], 'capital': 38.76999999995405, 'shares_AAPL': 556.0, 'curr': 228}\n",
      "Esta em backtest. bts= {'verbose': False, 'prestart': datetime.datetime(2018, 12, 10, 0, 0), 'start': datetime.datetime(2019, 1, 10, 0, 0), 'end': datetime.datetime(2019, 12, 31, 0, 0), 'type': 1, 'file': 'data_equity_file.csv', 'assets': ['AAPL'], 'capital': 38.76999999995405, 'shares_AAPL': 556.0, 'curr': 229}\n",
      "Esta em backtest. bts= {'verbose': False, 'prestart': datetime.datetime(2018, 12, 10, 0, 0), 'start': datetime.datetime(2019, 1, 10, 0, 0), 'end': datetime.datetime(2019, 12, 31, 0, 0), 'type': 1, 'file': 'data_equity_file.csv', 'assets': ['AAPL'], 'capital': 38.76999999995405, 'shares_AAPL': 556.0, 'curr': 230}\n",
      "Esta em backtest. bts= {'verbose': False, 'prestart': datetime.datetime(2018, 12, 10, 0, 0), 'start': datetime.datetime(2019, 1, 10, 0, 0), 'end': datetime.datetime(2019, 12, 31, 0, 0), 'type': 1, 'file': 'data_equity_file.csv', 'assets': ['AAPL'], 'capital': 38.76999999995405, 'shares_AAPL': 556.0, 'curr': 231}\n",
      "Esta em backtest. bts= {'verbose': False, 'prestart': datetime.datetime(2018, 12, 10, 0, 0), 'start': datetime.datetime(2019, 1, 10, 0, 0), 'end': datetime.datetime(2019, 12, 31, 0, 0), 'type': 1, 'file': 'data_equity_file.csv', 'assets': ['AAPL'], 'capital': 38.76999999995405, 'shares_AAPL': 556.0, 'curr': 232}\n",
      "Esta em backtest. bts= {'verbose': False, 'prestart': datetime.datetime(2018, 12, 10, 0, 0), 'start': datetime.datetime(2019, 1, 10, 0, 0), 'end': datetime.datetime(2019, 12, 31, 0, 0), 'type': 1, 'file': 'data_equity_file.csv', 'assets': ['AAPL'], 'capital': 38.76999999995405, 'shares_AAPL': 556.0, 'curr': 233}\n",
      "Esta em backtest. bts= {'verbose': False, 'prestart': datetime.datetime(2018, 12, 10, 0, 0), 'start': datetime.datetime(2019, 1, 10, 0, 0), 'end': datetime.datetime(2019, 12, 31, 0, 0), 'type': 1, 'file': 'data_equity_file.csv', 'assets': ['AAPL'], 'capital': 38.76999999995405, 'shares_AAPL': 556.0, 'curr': 234}\n",
      "Esta em backtest. bts= {'verbose': False, 'prestart': datetime.datetime(2018, 12, 10, 0, 0), 'start': datetime.datetime(2019, 1, 10, 0, 0), 'end': datetime.datetime(2019, 12, 31, 0, 0), 'type': 1, 'file': 'data_equity_file.csv', 'assets': ['AAPL'], 'capital': 38.76999999995405, 'shares_AAPL': 556.0, 'curr': 235}\n",
      "Esta em backtest. bts= {'verbose': False, 'prestart': datetime.datetime(2018, 12, 10, 0, 0), 'start': datetime.datetime(2019, 1, 10, 0, 0), 'end': datetime.datetime(2019, 12, 31, 0, 0), 'type': 1, 'file': 'data_equity_file.csv', 'assets': ['AAPL'], 'capital': 38.76999999995405, 'shares_AAPL': 556.0, 'curr': 236}\n",
      "Esta em backtest. bts= {'verbose': False, 'prestart': datetime.datetime(2018, 12, 10, 0, 0), 'start': datetime.datetime(2019, 1, 10, 0, 0), 'end': datetime.datetime(2019, 12, 31, 0, 0), 'type': 1, 'file': 'data_equity_file.csv', 'assets': ['AAPL'], 'capital': 38.76999999995405, 'shares_AAPL': 556.0, 'curr': 237}\n",
      "Esta em backtest. bts= {'verbose': False, 'prestart': datetime.datetime(2018, 12, 10, 0, 0), 'start': datetime.datetime(2019, 1, 10, 0, 0), 'end': datetime.datetime(2019, 12, 31, 0, 0), 'type': 1, 'file': 'data_equity_file.csv', 'assets': ['AAPL'], 'capital': 38.76999999995405, 'shares_AAPL': 556.0, 'curr': 238}\n",
      "Esta em backtest. bts= {'verbose': False, 'prestart': datetime.datetime(2018, 12, 10, 0, 0), 'start': datetime.datetime(2019, 1, 10, 0, 0), 'end': datetime.datetime(2019, 12, 31, 0, 0), 'type': 1, 'file': 'data_equity_file.csv', 'assets': ['AAPL'], 'capital': 38.76999999995405, 'shares_AAPL': 556.0, 'curr': 239}\n",
      "Esta em backtest. bts= {'verbose': False, 'prestart': datetime.datetime(2018, 12, 10, 0, 0), 'start': datetime.datetime(2019, 1, 10, 0, 0), 'end': datetime.datetime(2019, 12, 31, 0, 0), 'type': 1, 'file': 'data_equity_file.csv', 'assets': ['AAPL'], 'capital': 38.76999999995405, 'shares_AAPL': 556.0, 'curr': 240}\n",
      "Esta em backtest. bts= {'verbose': False, 'prestart': datetime.datetime(2018, 12, 10, 0, 0), 'start': datetime.datetime(2019, 1, 10, 0, 0), 'end': datetime.datetime(2019, 12, 31, 0, 0), 'type': 1, 'file': 'data_equity_file.csv', 'assets': ['AAPL'], 'capital': 38.76999999995405, 'shares_AAPL': 556.0, 'curr': 241}\n",
      "Esta em backtest. bts= {'verbose': False, 'prestart': datetime.datetime(2018, 12, 10, 0, 0), 'start': datetime.datetime(2019, 1, 10, 0, 0), 'end': datetime.datetime(2019, 12, 31, 0, 0), 'type': 1, 'file': 'data_equity_file.csv', 'assets': ['AAPL'], 'capital': 38.76999999995405, 'shares_AAPL': 556.0, 'curr': 242}\n",
      "Esta em backtest. bts= {'verbose': False, 'prestart': datetime.datetime(2018, 12, 10, 0, 0), 'start': datetime.datetime(2019, 1, 10, 0, 0), 'end': datetime.datetime(2019, 12, 31, 0, 0), 'type': 1, 'file': 'data_equity_file.csv', 'assets': ['AAPL'], 'capital': 38.76999999995405, 'shares_AAPL': 556.0, 'curr': 243}\n",
      "Esta em backtest. bts= {'verbose': False, 'prestart': datetime.datetime(2018, 12, 10, 0, 0), 'start': datetime.datetime(2019, 1, 10, 0, 0), 'end': datetime.datetime(2019, 12, 31, 0, 0), 'type': 1, 'file': 'data_equity_file.csv', 'assets': ['AAPL'], 'capital': 38.76999999995405, 'shares_AAPL': 556.0, 'curr': 244}\n",
      "Esta em backtest. bts= {'verbose': False, 'prestart': datetime.datetime(2018, 12, 10, 0, 0), 'start': datetime.datetime(2019, 1, 10, 0, 0), 'end': datetime.datetime(2019, 12, 31, 0, 0), 'type': 1, 'file': 'data_equity_file.csv', 'assets': ['AAPL'], 'capital': 38.76999999995405, 'shares_AAPL': 556.0, 'curr': 245}\n",
      "Esta em backtest. bts= {'verbose': False, 'prestart': datetime.datetime(2018, 12, 10, 0, 0), 'start': datetime.datetime(2019, 1, 10, 0, 0), 'end': datetime.datetime(2019, 12, 31, 0, 0), 'type': 1, 'file': 'data_equity_file.csv', 'assets': ['AAPL'], 'capital': 38.76999999995405, 'shares_AAPL': 556.0, 'curr': 246}\n",
      "End of backtest with  247  bars,  saving equity file in  data_equity_file.csv\n"
     ]
    }
   ],
   "source": [
    "# One year backtest\n",
    "\n",
    "# sets Backtest options \n",
    "prestart=se.date(2018,12,10)\n",
    "start=se.date(2019,1,10)\n",
    "end=se.date(2019,12,31)\n",
    "capital=100000\n",
    "results_file='data_equity_file.csv'\n",
    "verbose=False \n",
    "assets=['AAPL']\n",
    "# Use True if you want debug information for your Trader \n",
    "#sets the backtest setup\n",
    "period=se.DAILY \n",
    " # it may be se.INTRADAY (one minute interval)\n",
    "bts=se.backtest.set(assets,prestart,start,end,period,capital,results_file,verbose)\n",
    "if se.backtest.checkBTS(bts): # check if the backtest setup is ok!\n",
    "    print('Backtest Setup is Ok!')\n",
    "else:\n",
    "    print('Backtest Setup is NOT Ok!')\n",
    "# Running the backtest\n",
    "df= se.backtest.run(trader,bts)   \n",
    "# run calls the Trader. setup and trade (one for bar)\n",
    "\n",
    "\n"
   ]
  },
  {
   "source": [
    "## Evaluating Backtesting results\n",
    "\n",
    "The method backtest.run creates a data file with the name given in the backtest setup (bts) \n",
    "\n",
    "This will give you a report about the trader performance\n",
    "\n",
    "We need ot note that it is hard to perform meaningful evaluations using backtest. There are many pitfalls to avoid and it may be easier to get trading robots with great performance in backtest, but that perform really badly in real operations. \n",
    "\n",
    "More about that in mt5b3 backtest evaluation chapter.\n",
    "\n",
    "For a deeper discussion, we suggest:\n",
    "Is it a great Autonomous Trading Strategy or you are just fooling yourself Bernardini,M. and Castro, P.A.L\n",
    "\n",
    "In order to analyze the trader's backtest, you may use :\n",
    "\n",
    "se.backtest.evaluateFile(fileName)  \n",
    "#fileName is the name of file generated by the backtest\n",
    "\n",
    "or\n",
    "\n",
    "se.bactest.evaluate(df)  # df is the dataframe returned by b3.backtest.run\n"
   ],
   "cell_type": "markdown",
   "metadata": {}
  },
  {
   "cell_type": "code",
   "execution_count": 10,
   "metadata": {},
   "outputs": [
    {
     "output_type": "stream",
     "name": "stdout",
     "text": [
      "\n -----------------------   Backtest Report  ------------------------------- \n\nTotal Return (%)=63.40 in 246 bars \nAverage Bar Return (%)=0.21  \nStd Deviation of returns (%) =1.3602\n\n ----------------------        End of Report     -------------------------------- \n\n"
     ]
    }
   ],
   "source": [
    "# evaluates the backtest results\n",
    "se.backtest.evaluate(df)\n"
   ]
  },
  {
   "source": [
    "# Random Forest Trader"
   ],
   "cell_type": "markdown",
   "metadata": {}
  },
  {
   "cell_type": "code",
   "execution_count": 11,
   "metadata": {},
   "outputs": [
    {
     "output_type": "stream",
     "name": "stdout",
     "text": [
      "<__main__.RandomForestTrader object at 0x000001E4498E22C8>\n"
     ]
    }
   ],
   "source": [
    "## Defines the Simple AI Trader\n",
    "from sklearn.ensemble import RandomForestClassifier\n",
    "from sklearn.preprocessing import KBinsDiscretizer\n",
    "\n",
    "class RandomForestTrader(se.Trader):\n",
    "\n",
    "    def setup(self,dbars):\n",
    "        assets=list(dbars.keys())\n",
    "        if len(assets)!=1:\n",
    "            print('Error, this trader is supposed to deal with just one asset')\n",
    "            return None\n",
    "        bars=dbars[assets[0]]\n",
    "        # remove irrelevant info\n",
    "        if 'time' in bars:\n",
    "            del bars['time']\n",
    "        timeFrame=10 # it takes into account the last 10 bars\n",
    "        horizon=1 # it project the closing price for next bar\n",
    "        target='close' # name of the target column\n",
    "        ds=se.ai_utils.bars2Dataset(bars,target,timeFrame,horizon)\n",
    "        \n",
    "        X=se.ai_utils.fromDs2NpArrayAllBut(ds,['target'])\n",
    "        discretizer = KBinsDiscretizer(n_bins=3, encode='ordinal', strategy='uniform') \n",
    "        # creates the discrete target\n",
    "        ds['target']=se.ai_utils.discTarget(discretizer,ds['target'])\n",
    "        Y=se.ai_utils.fromDs2NpArray(ds,['target'])\n",
    "\n",
    "        #clf = tree.DecisionTreeClassifier()\n",
    "        clf = RandomForestClassifier(n_estimators=10)\n",
    "        clf = clf.fit(X, Y)\n",
    "        self.clf=clf\n",
    "\n",
    "    def trade(self,dbars):\n",
    "            assets=dbars.keys()\n",
    "            orders=[]\n",
    "            timeFrame=10 # it takes into account the last 10 bars\n",
    "            horizon=1 # it project the closing price for next bar\n",
    "            target='close' # name of the target column\n",
    "            money=se.get_balance()/len(assets) # shares the balance equally among the assets\n",
    "            for asset in assets:\n",
    "                bars=dbars[asset]\n",
    "                curr_shares=se.get_shares(asset)\n",
    "                price=se.get_last(bars)\n",
    "                free_shares=se.get_affor_shares(asset,price,money)\n",
    "                # get new information (bars), transform it in X\n",
    "                bars=dbars[asset]\n",
    "                #remove irrelevant info\n",
    "                if 'time' in bars:\n",
    "                    del bars['time']\n",
    "                # convert from bars to dataset\n",
    "                ds=se.ai_utils.bars2Dataset(bars,target,timeFrame,horizon)\n",
    "                # Get X fields\n",
    "                X=se.ai_utils.fromDs2NpArrayAllBut(ds,['target'])\n",
    "\n",
    "                # predict the result, using the latest info\n",
    "                p=self.clf.predict([X[-1]])\n",
    "                if p==2:\n",
    "                    #buy it\n",
    "                    order=se.buyOrder(asset,free_shares)\n",
    "                elif p==0:\n",
    "                    #sell it\n",
    "                    order=se.sellOrder(asset,curr_shares)\n",
    "                else:\n",
    "                    order=None\n",
    "                if order!=None:\n",
    "                    orders.append(order)\n",
    "            return orders    \n",
    "\n",
    "# creates instance of the Simple AI Trading\n",
    "trader=RandomForestTrader()  # also available in se.sampleTraders.SimpleAITrader()\n",
    "print(trader)"
   ]
  },
  {
   "source": [
    "## Setup, run and evaluate backtest"
   ],
   "cell_type": "markdown",
   "metadata": {}
  },
  {
   "cell_type": "code",
   "execution_count": 12,
   "metadata": {
    "tags": [
     "outputPrepend"
    ]
   },
   "outputs": [
    {
     "output_type": "stream",
     "name": "stdout",
     "text": [
      "art': datetime.datetime(2019, 1, 10, 0, 0), 'end': datetime.datetime(2019, 12, 31, 0, 0), 'type': 1, 'file': 'data_equity_file.csv', 'assets': ['GOOG'], 'capital': -1773.0799999999872, 'shares_GOOG': 97.0, 'curr': 184}\n",
      "Esta em backtest. bts= {'verbose': False, 'prestart': datetime.datetime(2018, 12, 10, 0, 0), 'start': datetime.datetime(2019, 1, 10, 0, 0), 'end': datetime.datetime(2019, 12, 31, 0, 0), 'type': 1, 'file': 'data_equity_file.csv', 'assets': ['GOOG'], 'capital': -1773.0799999999872, 'shares_GOOG': 97.0, 'curr': 185}\n",
      "Esta em backtest. bts= {'verbose': False, 'prestart': datetime.datetime(2018, 12, 10, 0, 0), 'start': datetime.datetime(2019, 1, 10, 0, 0), 'end': datetime.datetime(2019, 12, 31, 0, 0), 'type': 1, 'file': 'data_equity_file.csv', 'assets': ['GOOG'], 'capital': 115502.83000000002, 'shares_GOOG': 0.0, 'curr': 186}\n",
      "Esta em backtest. bts= {'verbose': False, 'prestart': datetime.datetime(2018, 12, 10, 0, 0), 'start': datetime.datetime(2019, 1, 10, 0, 0), 'end': datetime.datetime(2019, 12, 31, 0, 0), 'type': 1, 'file': 'data_equity_file.csv', 'assets': ['GOOG'], 'capital': 837.8300000000163, 'shares_GOOG': 95.0, 'curr': 187}\n",
      "Esta em backtest. bts= {'verbose': False, 'prestart': datetime.datetime(2018, 12, 10, 0, 0), 'start': datetime.datetime(2019, 1, 10, 0, 0), 'end': datetime.datetime(2019, 12, 31, 0, 0), 'type': 1, 'file': 'data_equity_file.csv', 'assets': ['GOOG'], 'capital': 837.8300000000163, 'shares_GOOG': 95.0, 'curr': 188}\n",
      "Esta em backtest. bts= {'verbose': False, 'prestart': datetime.datetime(2018, 12, 10, 0, 0), 'start': datetime.datetime(2019, 1, 10, 0, 0), 'end': datetime.datetime(2019, 12, 31, 0, 0), 'type': 1, 'file': 'data_equity_file.csv', 'assets': ['GOOG'], 'capital': 115031.63000000002, 'shares_GOOG': 0.0, 'curr': 189}\n",
      "Esta em backtest. bts= {'verbose': False, 'prestart': datetime.datetime(2018, 12, 10, 0, 0), 'start': datetime.datetime(2019, 1, 10, 0, 0), 'end': datetime.datetime(2019, 12, 31, 0, 0), 'type': 1, 'file': 'data_equity_file.csv', 'assets': ['GOOG'], 'capital': 115031.63000000002, 'shares_GOOG': 0.0, 'curr': 190}\n",
      "Esta em backtest. bts= {'verbose': False, 'prestart': datetime.datetime(2018, 12, 10, 0, 0), 'start': datetime.datetime(2019, 1, 10, 0, 0), 'end': datetime.datetime(2019, 12, 31, 0, 0), 'type': 1, 'file': 'data_equity_file.csv', 'assets': ['GOOG'], 'capital': -407.61999999999534, 'shares_GOOG': 95.0, 'curr': 191}\n",
      "Esta em backtest. bts= {'verbose': False, 'prestart': datetime.datetime(2018, 12, 10, 0, 0), 'start': datetime.datetime(2019, 1, 10, 0, 0), 'end': datetime.datetime(2019, 12, 31, 0, 0), 'type': 1, 'file': 'data_equity_file.csv', 'assets': ['GOOG'], 'capital': 115296.68000000001, 'shares_GOOG': 0.0, 'curr': 192}\n",
      "Esta em backtest. bts= {'verbose': False, 'prestart': datetime.datetime(2018, 12, 10, 0, 0), 'start': datetime.datetime(2019, 1, 10, 0, 0), 'end': datetime.datetime(2019, 12, 31, 0, 0), 'type': 1, 'file': 'data_equity_file.csv', 'assets': ['GOOG'], 'capital': -1432.5199999999895, 'shares_GOOG': 94.0, 'curr': 193}\n",
      "Esta em backtest. bts= {'verbose': False, 'prestart': datetime.datetime(2018, 12, 10, 0, 0), 'start': datetime.datetime(2019, 1, 10, 0, 0), 'end': datetime.datetime(2019, 12, 31, 0, 0), 'type': 1, 'file': 'data_equity_file.csv', 'assets': ['GOOG'], 'capital': -1432.5199999999895, 'shares_GOOG': 94.0, 'curr': 194}\n",
      "Esta em backtest. bts= {'verbose': False, 'prestart': datetime.datetime(2018, 12, 10, 0, 0), 'start': datetime.datetime(2019, 1, 10, 0, 0), 'end': datetime.datetime(2019, 12, 31, 0, 0), 'type': 1, 'file': 'data_equity_file.csv', 'assets': ['GOOG'], 'capital': -1432.5199999999895, 'shares_GOOG': 94.0, 'curr': 195}\n",
      "Esta em backtest. bts= {'verbose': False, 'prestart': datetime.datetime(2018, 12, 10, 0, 0), 'start': datetime.datetime(2019, 1, 10, 0, 0), 'end': datetime.datetime(2019, 12, 31, 0, 0), 'type': 1, 'file': 'data_equity_file.csv', 'assets': ['GOOG'], 'capital': -1432.5199999999895, 'shares_GOOG': 94.0, 'curr': 196}\n",
      "Esta em backtest. bts= {'verbose': False, 'prestart': datetime.datetime(2018, 12, 10, 0, 0), 'start': datetime.datetime(2019, 1, 10, 0, 0), 'end': datetime.datetime(2019, 12, 31, 0, 0), 'type': 1, 'file': 'data_equity_file.csv', 'assets': ['GOOG'], 'capital': -1432.5199999999895, 'shares_GOOG': 94.0, 'curr': 197}\n",
      "Esta em backtest. bts= {'verbose': False, 'prestart': datetime.datetime(2018, 12, 10, 0, 0), 'start': datetime.datetime(2019, 1, 10, 0, 0), 'end': datetime.datetime(2019, 12, 31, 0, 0), 'type': 1, 'file': 'data_equity_file.csv', 'assets': ['GOOG'], 'capital': 115390.68000000001, 'shares_GOOG': 0.0, 'curr': 198}\n",
      "Esta em backtest. bts= {'verbose': False, 'prestart': datetime.datetime(2018, 12, 10, 0, 0), 'start': datetime.datetime(2019, 1, 10, 0, 0), 'end': datetime.datetime(2019, 12, 31, 0, 0), 'type': 1, 'file': 'data_equity_file.csv', 'assets': ['GOOG'], 'capital': -529.3199999999924, 'shares_GOOG': 92.0, 'curr': 199}\n",
      "Esta em backtest. bts= {'verbose': False, 'prestart': datetime.datetime(2018, 12, 10, 0, 0), 'start': datetime.datetime(2019, 1, 10, 0, 0), 'end': datetime.datetime(2019, 12, 31, 0, 0), 'type': 1, 'file': 'data_equity_file.csv', 'assets': ['GOOG'], 'capital': -529.3199999999924, 'shares_GOOG': 92.0, 'curr': 200}\n",
      "Esta em backtest. bts= {'verbose': False, 'prestart': datetime.datetime(2018, 12, 10, 0, 0), 'start': datetime.datetime(2019, 1, 10, 0, 0), 'end': datetime.datetime(2019, 12, 31, 0, 0), 'type': 1, 'file': 'data_equity_file.csv', 'assets': ['GOOG'], 'capital': 115908.64000000001, 'shares_GOOG': 0.0, 'curr': 201}\n",
      "Esta em backtest. bts= {'verbose': False, 'prestart': datetime.datetime(2018, 12, 10, 0, 0), 'start': datetime.datetime(2019, 1, 10, 0, 0), 'end': datetime.datetime(2019, 12, 31, 0, 0), 'type': 1, 'file': 'data_equity_file.csv', 'assets': ['GOOG'], 'capital': 2158.640000000014, 'shares_GOOG': 91.0, 'curr': 202}\n",
      "Esta em backtest. bts= {'verbose': False, 'prestart': datetime.datetime(2018, 12, 10, 0, 0), 'start': datetime.datetime(2019, 1, 10, 0, 0), 'end': datetime.datetime(2019, 12, 31, 0, 0), 'type': 1, 'file': 'data_equity_file.csv', 'assets': ['GOOG'], 'capital': 898.640000000014, 'shares_GOOG': 92.0, 'curr': 203}\n",
      "Esta em backtest. bts= {'verbose': False, 'prestart': datetime.datetime(2018, 12, 10, 0, 0), 'start': datetime.datetime(2019, 1, 10, 0, 0), 'end': datetime.datetime(2019, 12, 31, 0, 0), 'type': 1, 'file': 'data_equity_file.csv', 'assets': ['GOOG'], 'capital': 898.640000000014, 'shares_GOOG': 92.0, 'curr': 204}\n",
      "Esta em backtest. bts= {'verbose': False, 'prestart': datetime.datetime(2018, 12, 10, 0, 0), 'start': datetime.datetime(2019, 1, 10, 0, 0), 'end': datetime.datetime(2019, 12, 31, 0, 0), 'type': 1, 'file': 'data_equity_file.csv', 'assets': ['GOOG'], 'capital': 898.640000000014, 'shares_GOOG': 92.0, 'curr': 205}\n",
      "Esta em backtest. bts= {'verbose': False, 'prestart': datetime.datetime(2018, 12, 10, 0, 0), 'start': datetime.datetime(2019, 1, 10, 0, 0), 'end': datetime.datetime(2019, 12, 31, 0, 0), 'type': 1, 'file': 'data_equity_file.csv', 'assets': ['GOOG'], 'capital': 898.640000000014, 'shares_GOOG': 92.0, 'curr': 206}\n",
      "Esta em backtest. bts= {'verbose': False, 'prestart': datetime.datetime(2018, 12, 10, 0, 0), 'start': datetime.datetime(2019, 1, 10, 0, 0), 'end': datetime.datetime(2019, 12, 31, 0, 0), 'type': 1, 'file': 'data_equity_file.csv', 'assets': ['GOOG'], 'capital': 898.640000000014, 'shares_GOOG': 92.0, 'curr': 207}\n",
      "Esta em backtest. bts= {'verbose': False, 'prestart': datetime.datetime(2018, 12, 10, 0, 0), 'start': datetime.datetime(2019, 1, 10, 0, 0), 'end': datetime.datetime(2019, 12, 31, 0, 0), 'type': 1, 'file': 'data_equity_file.csv', 'assets': ['GOOG'], 'capital': 119486.64000000001, 'shares_GOOG': 0.0, 'curr': 208}\n",
      "Esta em backtest. bts= {'verbose': False, 'prestart': datetime.datetime(2018, 12, 10, 0, 0), 'start': datetime.datetime(2019, 1, 10, 0, 0), 'end': datetime.datetime(2019, 12, 31, 0, 0), 'type': 1, 'file': 'data_equity_file.csv', 'assets': ['GOOG'], 'capital': 641.0400000000227, 'shares_GOOG': 92.0, 'curr': 209}\n",
      "Esta em backtest. bts= {'verbose': False, 'prestart': datetime.datetime(2018, 12, 10, 0, 0), 'start': datetime.datetime(2019, 1, 10, 0, 0), 'end': datetime.datetime(2019, 12, 31, 0, 0), 'type': 1, 'file': 'data_equity_file.csv', 'assets': ['GOOG'], 'capital': 641.0400000000227, 'shares_GOOG': 92.0, 'curr': 210}\n",
      "Esta em backtest. bts= {'verbose': False, 'prestart': datetime.datetime(2018, 12, 10, 0, 0), 'start': datetime.datetime(2019, 1, 10, 0, 0), 'end': datetime.datetime(2019, 12, 31, 0, 0), 'type': 1, 'file': 'data_equity_file.csv', 'assets': ['GOOG'], 'capital': 121184.04000000002, 'shares_GOOG': 0.0, 'curr': 211}\n",
      "Esta em backtest. bts= {'verbose': False, 'prestart': datetime.datetime(2018, 12, 10, 0, 0), 'start': datetime.datetime(2019, 1, 10, 0, 0), 'end': datetime.datetime(2019, 12, 31, 0, 0), 'type': 1, 'file': 'data_equity_file.csv', 'assets': ['GOOG'], 'capital': 121184.04000000002, 'shares_GOOG': 0.0, 'curr': 212}\n",
      "Esta em backtest. bts= {'verbose': False, 'prestart': datetime.datetime(2018, 12, 10, 0, 0), 'start': datetime.datetime(2019, 1, 10, 0, 0), 'end': datetime.datetime(2019, 12, 31, 0, 0), 'type': 1, 'file': 'data_equity_file.csv', 'assets': ['GOOG'], 'capital': 470.0400000000227, 'shares_GOOG': 93.0, 'curr': 213}\n",
      "Esta em backtest. bts= {'verbose': False, 'prestart': datetime.datetime(2018, 12, 10, 0, 0), 'start': datetime.datetime(2019, 1, 10, 0, 0), 'end': datetime.datetime(2019, 12, 31, 0, 0), 'type': 1, 'file': 'data_equity_file.csv', 'assets': ['GOOG'], 'capital': 470.0400000000227, 'shares_GOOG': 93.0, 'curr': 214}\n",
      "Esta em backtest. bts= {'verbose': False, 'prestart': datetime.datetime(2018, 12, 10, 0, 0), 'start': datetime.datetime(2019, 1, 10, 0, 0), 'end': datetime.datetime(2019, 12, 31, 0, 0), 'type': 1, 'file': 'data_equity_file.csv', 'assets': ['GOOG'], 'capital': 122300.04000000002, 'shares_GOOG': 0.0, 'curr': 215}\n",
      "Esta em backtest. bts= {'verbose': False, 'prestart': datetime.datetime(2018, 12, 10, 0, 0), 'start': datetime.datetime(2019, 1, 10, 0, 0), 'end': datetime.datetime(2019, 12, 31, 0, 0), 'type': 1, 'file': 'data_equity_file.csv', 'assets': ['GOOG'], 'capital': -1842.8699999999662, 'shares_GOOG': 93.0, 'curr': 216}\n",
      "Esta em backtest. bts= {'verbose': False, 'prestart': datetime.datetime(2018, 12, 10, 0, 0), 'start': datetime.datetime(2019, 1, 10, 0, 0), 'end': datetime.datetime(2019, 12, 31, 0, 0), 'type': 1, 'file': 'data_equity_file.csv', 'assets': ['GOOG'], 'capital': -1842.8699999999662, 'shares_GOOG': 93.0, 'curr': 217}\n",
      "Esta em backtest. bts= {'verbose': False, 'prestart': datetime.datetime(2018, 12, 10, 0, 0), 'start': datetime.datetime(2019, 1, 10, 0, 0), 'end': datetime.datetime(2019, 12, 31, 0, 0), 'type': 1, 'file': 'data_equity_file.csv', 'assets': ['GOOG'], 'capital': 120494.91000000003, 'shares_GOOG': 0.0, 'curr': 218}\n",
      "Esta em backtest. bts= {'verbose': False, 'prestart': datetime.datetime(2018, 12, 10, 0, 0), 'start': datetime.datetime(2019, 1, 10, 0, 0), 'end': datetime.datetime(2019, 12, 31, 0, 0), 'type': 1, 'file': 'data_equity_file.csv', 'assets': ['GOOG'], 'capital': 1917.3600000000297, 'shares_GOOG': 91.0, 'curr': 219}\n",
      "Esta em backtest. bts= {'verbose': False, 'prestart': datetime.datetime(2018, 12, 10, 0, 0), 'start': datetime.datetime(2019, 1, 10, 0, 0), 'end': datetime.datetime(2019, 12, 31, 0, 0), 'type': 1, 'file': 'data_equity_file.csv', 'assets': ['GOOG'], 'capital': 616.0200000000298, 'shares_GOOG': 92.0, 'curr': 220}\n",
      "Esta em backtest. bts= {'verbose': False, 'prestart': datetime.datetime(2018, 12, 10, 0, 0), 'start': datetime.datetime(2019, 1, 10, 0, 0), 'end': datetime.datetime(2019, 12, 31, 0, 0), 'type': 1, 'file': 'data_equity_file.csv', 'assets': ['GOOG'], 'capital': 119641.02000000003, 'shares_GOOG': 0.0, 'curr': 221}\n",
      "Esta em backtest. bts= {'verbose': False, 'prestart': datetime.datetime(2018, 12, 10, 0, 0), 'start': datetime.datetime(2019, 1, 10, 0, 0), 'end': datetime.datetime(2019, 12, 31, 0, 0), 'type': 1, 'file': 'data_equity_file.csv', 'assets': ['GOOG'], 'capital': 119641.02000000003, 'shares_GOOG': 0.0, 'curr': 222}\n",
      "Esta em backtest. bts= {'verbose': False, 'prestart': datetime.datetime(2018, 12, 10, 0, 0), 'start': datetime.datetime(2019, 1, 10, 0, 0), 'end': datetime.datetime(2019, 12, 31, 0, 0), 'type': 1, 'file': 'data_equity_file.csv', 'assets': ['GOOG'], 'capital': 146.19000000001688, 'shares_GOOG': 91.0, 'curr': 223}\n",
      "Esta em backtest. bts= {'verbose': False, 'prestart': datetime.datetime(2018, 12, 10, 0, 0), 'start': datetime.datetime(2019, 1, 10, 0, 0), 'end': datetime.datetime(2019, 12, 31, 0, 0), 'type': 1, 'file': 'data_equity_file.csv', 'assets': ['GOOG'], 'capital': 146.19000000001688, 'shares_GOOG': 91.0, 'curr': 224}\n",
      "Esta em backtest. bts= {'verbose': False, 'prestart': datetime.datetime(2018, 12, 10, 0, 0), 'start': datetime.datetime(2019, 1, 10, 0, 0), 'end': datetime.datetime(2019, 12, 31, 0, 0), 'type': 1, 'file': 'data_equity_file.csv', 'assets': ['GOOG'], 'capital': 146.19000000001688, 'shares_GOOG': 91.0, 'curr': 225}\n",
      "Esta em backtest. bts= {'verbose': False, 'prestart': datetime.datetime(2018, 12, 10, 0, 0), 'start': datetime.datetime(2019, 1, 10, 0, 0), 'end': datetime.datetime(2019, 12, 31, 0, 0), 'type': 1, 'file': 'data_equity_file.csv', 'assets': ['GOOG'], 'capital': 146.19000000001688, 'shares_GOOG': 91.0, 'curr': 226}\n",
      "Esta em backtest. bts= {'verbose': False, 'prestart': datetime.datetime(2018, 12, 10, 0, 0), 'start': datetime.datetime(2019, 1, 10, 0, 0), 'end': datetime.datetime(2019, 12, 31, 0, 0), 'type': 1, 'file': 'data_equity_file.csv', 'assets': ['GOOG'], 'capital': 146.19000000001688, 'shares_GOOG': 91.0, 'curr': 227}\n",
      "Esta em backtest. bts= {'verbose': False, 'prestart': datetime.datetime(2018, 12, 10, 0, 0), 'start': datetime.datetime(2019, 1, 10, 0, 0), 'end': datetime.datetime(2019, 12, 31, 0, 0), 'type': 1, 'file': 'data_equity_file.csv', 'assets': ['GOOG'], 'capital': 146.19000000001688, 'shares_GOOG': 91.0, 'curr': 228}\n",
      "Esta em backtest. bts= {'verbose': False, 'prestart': datetime.datetime(2018, 12, 10, 0, 0), 'start': datetime.datetime(2019, 1, 10, 0, 0), 'end': datetime.datetime(2019, 12, 31, 0, 0), 'type': 1, 'file': 'data_equity_file.csv', 'assets': ['GOOG'], 'capital': 146.19000000001688, 'shares_GOOG': 91.0, 'curr': 229}\n",
      "Esta em backtest. bts= {'verbose': False, 'prestart': datetime.datetime(2018, 12, 10, 0, 0), 'start': datetime.datetime(2019, 1, 10, 0, 0), 'end': datetime.datetime(2019, 12, 31, 0, 0), 'type': 1, 'file': 'data_equity_file.csv', 'assets': ['GOOG'], 'capital': 146.19000000001688, 'shares_GOOG': 91.0, 'curr': 230}\n",
      "Esta em backtest. bts= {'verbose': False, 'prestart': datetime.datetime(2018, 12, 10, 0, 0), 'start': datetime.datetime(2019, 1, 10, 0, 0), 'end': datetime.datetime(2019, 12, 31, 0, 0), 'type': 1, 'file': 'data_equity_file.csv', 'assets': ['GOOG'], 'capital': 146.19000000001688, 'shares_GOOG': 91.0, 'curr': 231}\n",
      "Esta em backtest. bts= {'verbose': False, 'prestart': datetime.datetime(2018, 12, 10, 0, 0), 'start': datetime.datetime(2019, 1, 10, 0, 0), 'end': datetime.datetime(2019, 12, 31, 0, 0), 'type': 1, 'file': 'data_equity_file.csv', 'assets': ['GOOG'], 'capital': 146.19000000001688, 'shares_GOOG': 91.0, 'curr': 232}\n",
      "Esta em backtest. bts= {'verbose': False, 'prestart': datetime.datetime(2018, 12, 10, 0, 0), 'start': datetime.datetime(2019, 1, 10, 0, 0), 'end': datetime.datetime(2019, 12, 31, 0, 0), 'type': 1, 'file': 'data_equity_file.csv', 'assets': ['GOOG'], 'capital': 146.19000000001688, 'shares_GOOG': 91.0, 'curr': 233}\n",
      "Esta em backtest. bts= {'verbose': False, 'prestart': datetime.datetime(2018, 12, 10, 0, 0), 'start': datetime.datetime(2019, 1, 10, 0, 0), 'end': datetime.datetime(2019, 12, 31, 0, 0), 'type': 1, 'file': 'data_equity_file.csv', 'assets': ['GOOG'], 'capital': 146.19000000001688, 'shares_GOOG': 91.0, 'curr': 234}\n",
      "Esta em backtest. bts= {'verbose': False, 'prestart': datetime.datetime(2018, 12, 10, 0, 0), 'start': datetime.datetime(2019, 1, 10, 0, 0), 'end': datetime.datetime(2019, 12, 31, 0, 0), 'type': 1, 'file': 'data_equity_file.csv', 'assets': ['GOOG'], 'capital': 146.19000000001688, 'shares_GOOG': 91.0, 'curr': 235}\n",
      "Esta em backtest. bts= {'verbose': False, 'prestart': datetime.datetime(2018, 12, 10, 0, 0), 'start': datetime.datetime(2019, 1, 10, 0, 0), 'end': datetime.datetime(2019, 12, 31, 0, 0), 'type': 1, 'file': 'data_equity_file.csv', 'assets': ['GOOG'], 'capital': 146.19000000001688, 'shares_GOOG': 91.0, 'curr': 236}\n",
      "Esta em backtest. bts= {'verbose': False, 'prestart': datetime.datetime(2018, 12, 10, 0, 0), 'start': datetime.datetime(2019, 1, 10, 0, 0), 'end': datetime.datetime(2019, 12, 31, 0, 0), 'type': 1, 'file': 'data_equity_file.csv', 'assets': ['GOOG'], 'capital': 124039.05000000002, 'shares_GOOG': 0.0, 'curr': 237}\n",
      "Esta em backtest. bts= {'verbose': False, 'prestart': datetime.datetime(2018, 12, 10, 0, 0), 'start': datetime.datetime(2019, 1, 10, 0, 0), 'end': datetime.datetime(2019, 12, 31, 0, 0), 'type': 1, 'file': 'data_equity_file.csv', 'assets': ['GOOG'], 'capital': 723.1300000000338, 'shares_GOOG': 91.0, 'curr': 238}\n",
      "Esta em backtest. bts= {'verbose': False, 'prestart': datetime.datetime(2018, 12, 10, 0, 0), 'start': datetime.datetime(2019, 1, 10, 0, 0), 'end': datetime.datetime(2019, 12, 31, 0, 0), 'type': 1, 'file': 'data_equity_file.csv', 'assets': ['GOOG'], 'capital': 723.1300000000338, 'shares_GOOG': 91.0, 'curr': 239}\n",
      "Esta em backtest. bts= {'verbose': False, 'prestart': datetime.datetime(2018, 12, 10, 0, 0), 'start': datetime.datetime(2019, 1, 10, 0, 0), 'end': datetime.datetime(2019, 12, 31, 0, 0), 'type': 1, 'file': 'data_equity_file.csv', 'assets': ['GOOG'], 'capital': 723.1300000000338, 'shares_GOOG': 91.0, 'curr': 240}\n",
      "Esta em backtest. bts= {'verbose': False, 'prestart': datetime.datetime(2018, 12, 10, 0, 0), 'start': datetime.datetime(2019, 1, 10, 0, 0), 'end': datetime.datetime(2019, 12, 31, 0, 0), 'type': 1, 'file': 'data_equity_file.csv', 'assets': ['GOOG'], 'capital': 723.1300000000338, 'shares_GOOG': 91.0, 'curr': 241}\n",
      "Esta em backtest. bts= {'verbose': False, 'prestart': datetime.datetime(2018, 12, 10, 0, 0), 'start': datetime.datetime(2019, 1, 10, 0, 0), 'end': datetime.datetime(2019, 12, 31, 0, 0), 'type': 1, 'file': 'data_equity_file.csv', 'assets': ['GOOG'], 'capital': 723.1300000000338, 'shares_GOOG': 91.0, 'curr': 242}\n",
      "Esta em backtest. bts= {'verbose': False, 'prestart': datetime.datetime(2018, 12, 10, 0, 0), 'start': datetime.datetime(2019, 1, 10, 0, 0), 'end': datetime.datetime(2019, 12, 31, 0, 0), 'type': 1, 'file': 'data_equity_file.csv', 'assets': ['GOOG'], 'capital': 723.1300000000338, 'shares_GOOG': 91.0, 'curr': 243}\n",
      "Esta em backtest. bts= {'verbose': False, 'prestart': datetime.datetime(2018, 12, 10, 0, 0), 'start': datetime.datetime(2019, 1, 10, 0, 0), 'end': datetime.datetime(2019, 12, 31, 0, 0), 'type': 1, 'file': 'data_equity_file.csv', 'assets': ['GOOG'], 'capital': 723.1300000000338, 'shares_GOOG': 91.0, 'curr': 244}\n",
      "Esta em backtest. bts= {'verbose': False, 'prestart': datetime.datetime(2018, 12, 10, 0, 0), 'start': datetime.datetime(2019, 1, 10, 0, 0), 'end': datetime.datetime(2019, 12, 31, 0, 0), 'type': 1, 'file': 'data_equity_file.csv', 'assets': ['GOOG'], 'capital': 723.1300000000338, 'shares_GOOG': 91.0, 'curr': 245}\n",
      "Esta em backtest. bts= {'verbose': False, 'prestart': datetime.datetime(2018, 12, 10, 0, 0), 'start': datetime.datetime(2019, 1, 10, 0, 0), 'end': datetime.datetime(2019, 12, 31, 0, 0), 'type': 1, 'file': 'data_equity_file.csv', 'assets': ['GOOG'], 'capital': 723.1300000000338, 'shares_GOOG': 91.0, 'curr': 246}\n",
      "End of backtest with  247  bars,  saving equity file in  data_equity_file.csv\n",
      "\n",
      " -----------------------   Backtest Report  ------------------------------- \n",
      "\n",
      "Total Return (%)=22.48 in 246 bars \n",
      "Average Bar Return (%)=0.09  \n",
      "Std Deviation of returns (%) =1.2422\n",
      "\n",
      " ----------------------        End of Report     -------------------------------- \n",
      "\n"
     ]
    }
   ],
   "source": [
    "\n",
    "\n",
    "# sets Backtest options \n",
    "prestart=se.date(2018,12,10)\n",
    "start=se.date(2019,1,10)\n",
    "end=se.date(2019,12,31)\n",
    "capital=100000\n",
    "results_file='data_equity_file.csv'\n",
    "verbose=False \n",
    "assets=['GOOG']\n",
    "# Use True if you want debug information for your Trader \n",
    "#sets the backtest setup\n",
    "period=se.DAILY \n",
    " # it may be se.INTRADAY (one minute interval)\n",
    "bts=se.backtest.set(assets,prestart,start,end,period,capital,results_file,verbose)\n",
    "\n",
    "# Running the backtest\n",
    "df= se.backtest.run(trader,bts)   \n",
    "# run calls the Trader. setup and trade (one for bar)\n",
    "\n",
    "# evaluates the backtest results\n",
    "se.backtest.evaluate(df)\n",
    "\n",
    "\n"
   ]
  },
  {
   "cell_type": "code",
   "execution_count": null,
   "metadata": {},
   "outputs": [],
   "source": []
  }
 ]
}