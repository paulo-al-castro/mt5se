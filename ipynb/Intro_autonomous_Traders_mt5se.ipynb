{
 "metadata": {
  "language_info": {
   "codemirror_mode": {
    "name": "ipython",
    "version": 3
   },
   "file_extension": ".py",
   "mimetype": "text/x-python",
   "name": "python",
   "nbconvert_exporter": "python",
   "pygments_lexer": "ipython3",
   "version": "3.7.6"
  },
  "orig_nbformat": 2,
  "kernelspec": {
   "name": "python376jvsc74a57bd0e746eafcc9c3755c618fd70b7289e2c77c6dfaa86036ed9f41128bb78d1ac1c4",
   "display_name": "Python 3.7.6 64-bit (conda)"
  },
  "metadata": {
   "interpreter": {
    "hash": "e746eafcc9c3755c618fd70b7289e2c77c6dfaa86036ed9f41128bb78d1ac1c4"
   }
  }
 },
 "nbformat": 4,
 "nbformat_minor": 2,
 "cells": [
  {
   "source": [
    "# Building Autonomous Trader using mt5se"
   ],
   "cell_type": "markdown",
   "metadata": {}
  },
  {
   "source": [
    "### Installing mt5se\n",
    "### 1. Download it from https://github.com/paulo-al-castro/mt5se/\n",
    "### 2. unzip it in a proper fold\n",
    "### 3. Install Metatrader 5 (https://www.metatrader5.com/)\n",
    "### 4. Install python package Metatrader5 using pip\n",
    "####   Use: pip install MetaTrader5 ... or Use sys package\n",
    "\n",
    "\n"
   ],
   "cell_type": "markdown",
   "metadata": {}
  },
  {
   "cell_type": "code",
   "execution_count": 8,
   "metadata": {},
   "outputs": [
    {
     "output_type": "stream",
     "name": "stdout",
     "text": [
      "Processing c:\\users\\pauloandre\\appdata\\local\\pip\\cache\\wheels\\e6\\b6\\6d\\14b6a97b1f8126d4a265096844d025af9b54f66648eaba9f19\\mt5se-0.1.9-py3-none-any.whl\nInstalling collected packages: mt5se\n  Attempting uninstall: mt5se\n    Found existing installation: mt5se 0.1.8\n    Uninstalling mt5se-0.1.8:\n      Successfully uninstalled mt5se-0.1.8\nSuccessfully installed mt5se-0.1.9\n"
     ]
    }
   ],
   "source": [
    "# installing Metatrader5 using sys\n",
    "import sys\n",
    "# python MetaTrader5\n",
    "#!{sys.executable} -m pip install MetaTrader5\n",
    "#mt5se \n",
    "!{sys.executable} -m pip install mt5se --upgrade\n",
    "\n"
   ]
  },
  {
   "source": [
    "\n",
    "<hr>\n",
    "\n",
    "##  Connecting and getting account information\n"
   ],
   "cell_type": "markdown",
   "metadata": {}
  },
  {
   "cell_type": "code",
   "execution_count": 1,
   "metadata": {},
   "outputs": [
    {
     "output_type": "stream",
     "name": "stdout",
     "text": [
      "Ok!! It is connected to the Stock exchange!!\n"
     ]
    }
   ],
   "source": [
    "import mt5se as se\n",
    "\n",
    "connected=se.connect()\n",
    "if connected:\n",
    "    print('Ok!! It is connected to the Stock exchange!!')\n",
    "else:\n",
    "    print('Something went wrong! It is NOT connected to se!!')\n",
    "\n",
    "\n"
   ]
  },
  {
   "cell_type": "code",
   "execution_count": 5,
   "metadata": {},
   "outputs": [
    {
     "output_type": "stream",
     "name": "stdout",
     "text": [
      "Metatrader program file path:  C:\\Program Files\\MetaTrader 5 Terminal\nMetatrader path to data folder:  C:\\Users\\PauloAndre\\AppData\\Roaming\\MetaQuotes\\Terminal\\FB9A56D617EDDDFE29EE54EBEFFE96C1\nMetatrader common data path:  C:\\Users\\PauloAndre\\AppData\\Roaming\\MetaQuotes\\Terminal\\Common\n"
     ]
    }
   ],
   "source": [
    "ti=se.terminal_info()\n",
    "print('Metatrader program file path: ', ti.path)   \n",
    "print('Metatrader path to data folder: ', ti.data_path )\n",
    "print('Metatrader common data path: ',ti.commondata_path)"
   ]
  },
  {
   "source": [
    "<hr>\n",
    "\n",
    "### Getting information about the account"
   ],
   "cell_type": "markdown",
   "metadata": {}
  },
  {
   "cell_type": "code",
   "execution_count": 6,
   "metadata": {},
   "outputs": [
    {
     "output_type": "stream",
     "name": "stdout",
     "text": [
      "login= 20604\nbalance= 100001.1\nequity= 100146.1\nfree margin= 97661.4\nmargin= 2484.7\nclient name= paulo castro\nServer = Tradeview-Demo\nCurrency = USD\n"
     ]
    }
   ],
   "source": [
    "acc=se.account_info()   # it returns account's information \n",
    "print('login=',acc.login)  # Account id\n",
    "print('balance=',acc.balance) # Account balance in the deposit currency  using buy price of assets (margin_free+margin)\n",
    "print('equity=',acc.equity) # Account equity in the deposit currency using current price of assets (capital liquido) (margin_free+margin+profit)\n",
    "print('free margin=',acc.margin_free) # Free margin ( balance in cash ) of an account in the deposit currency(BRL)\n",
    "print('margin=',acc.margin)  #Account margin used in the deposit currency (equity-margin_free-profit )\n",
    "print('client name=',acc.name) #Client name\n",
    "print('Server =',acc.server) # Trade server name\n",
    "print('Currency =',acc.currency) # Account currency, BRL for Brazilian Real\n"
   ]
  },
  {
   "source": [
    "<hr>\n",
    "\n",
    "### Getting info about asset's prices quotes (a.k.a bars)\n",
    "\n"
   ],
   "cell_type": "markdown",
   "metadata": {}
  },
  {
   "cell_type": "code",
   "execution_count": 7,
   "metadata": {},
   "outputs": [
    {
     "output_type": "stream",
     "name": "stdout",
     "text": [
      "        time   open   high    low  close  tick_volume  spread  real_volume\n0 2021-04-14  23.02  23.02  22.20  22.36        69623       0      3111073\n1 2021-04-15  22.65  22.65  21.69  22.13        68339       0      3004358\n2 2021-04-16  22.01  22.35  21.87  22.01        64555       0      2957521\n3 2021-04-19  21.96  21.98  21.37  21.55        79229       0      3297570\n4 2021-04-20  21.02  21.02  19.96  20.36        83509       0      3496234\n5 2021-04-21  20.00  21.02  19.64  20.99        81736       0      3501087\n6 2021-04-22  21.57  21.59  20.04  20.07        87741       0      4550065\n7 2021-04-23  20.26  21.19  20.18  21.10        74520       0      3555802\n8 2021-04-26  21.52  22.04  21.47  22.03        79937       0      3904580\n9 2021-04-27  22.00  22.06  21.60  21.76        75118       0      3892413\n"
     ]
    }
   ],
   "source": [
    "import pandas as pd\n",
    "\n",
    "# Some example of Assets in Nasdaq\n",
    "assets=[\n",
    "'AAL', #\tAmerican Airlines Group, Inc.\t\n",
    "'GOOG', #\t\tApple Inc.\t\t\n",
    "'UAL', #\t\tUnited Airlines Holdings, Inc.\t\n",
    "'AMD',  #\t\tAdvanced Micro Devices, Inc.\t\n",
    "'MSFT' #\t\tMICROSOFT\n",
    "]\n",
    "asset=assets[0]\n",
    "\n",
    "df=se.get_bars(asset,10) # it returns the last 10 days\n",
    "print(df)"
   ]
  },
  {
   "source": [
    "<hr>\n",
    "\n",
    "### Getting information about current position\n"
   ],
   "cell_type": "markdown",
   "metadata": {}
  },
  {
   "cell_type": "code",
   "execution_count": 8,
   "metadata": {},
   "outputs": [
    {
     "output_type": "stream",
     "name": "stdout",
     "text": [
      "Position=   symbol  type  volume  price_open  price_current\n0   MSFT     0    10.0      248.47         262.97\nPosition on paper  MSFT  = 2629.7000000000003\n2629.7000000000003\n"
     ]
    }
   ],
   "source": [
    "print('Position=',se.get_positions())  # return the current value of assets (not include balance or margin)\n",
    "symbol_id='MSFT'\n",
    "print('Position on paper ',symbol_id,' =',se.get_position_value(symbol_id)) # return the current position in a given asset (symbol_id)\n",
    "\n",
    "pos=se.get_position_value(symbol_id)\n",
    "print(pos)\n",
    "\n"
   ]
  },
  {
   "source": [
    "<hr>\n",
    "\n",
    "### Creating, checking and sending orders\n"
   ],
   "cell_type": "markdown",
   "metadata": {}
  },
  {
   "cell_type": "code",
   "execution_count": 9,
   "metadata": {},
   "outputs": [
    {
     "output_type": "stream",
     "name": "stdout",
     "text": [
      "Market is Open!!\nBuy order seems ok!\n"
     ]
    }
   ],
   "source": [
    "###Buying three hundred shares of AAPL !!\n",
    "symbol_id='AAPL'\n",
    "bars=se.get_bars(symbol_id,2)\n",
    "price=se.get_last(bars)\n",
    "volume=300\n",
    "\n",
    "\n",
    "b=se.buyOrder(symbol_id,volume, price ) # price, sl and tp are optional\n",
    "\n",
    "if se.is_market_open(symbol_id):\n",
    "    print('Market is Open!!')\n",
    "else:\n",
    "    print('Market is closed! Orders will not be accepted!!')\n",
    "\n",
    "if se.checkOrder(b):\n",
    "    print('Buy order seems ok!')\n",
    "else:\n",
    "    print('Error : ',se.getLastError())\n",
    "\n",
    "\n",
    "# if se.sendOrder(b):\n",
    "#     print('Order executed!)\n"
   ]
  },
  {
   "source": [
    "### Direct Control Robots using mt5se"
   ],
   "cell_type": "markdown",
   "metadata": {}
  },
  {
   "cell_type": "code",
   "execution_count": 10,
   "metadata": {
    "tags": []
   },
   "outputs": [
    {
     "output_type": "stream",
     "name": "stdout",
     "text": [
      "getting information\n",
      "deliberating\n",
      "sending order\n",
      "No order at the moment for asset= AAPL\n",
      "getting information\n",
      "deliberating\n",
      "sending order\n",
      "No order at the moment for asset= AAPL\n",
      "getting information\n",
      "deliberating\n",
      "sending order\n",
      "No order at the moment for asset= AAPL\n",
      "getting information\n",
      "deliberating\n",
      "sending order\n",
      "No order at the moment for asset= AAPL\n",
      "getting information\n",
      "deliberating\n",
      "sending order\n",
      "No order at the moment for asset= AAPL\n",
      "getting information\n",
      "deliberating\n",
      "sending order\n",
      "No order at the moment for asset= AAPL\n"
     ]
    },
    {
     "output_type": "error",
     "ename": "KeyboardInterrupt",
     "evalue": "",
     "traceback": [
      "\u001b[1;31m---------------------------------------------------------------------------\u001b[0m",
      "\u001b[1;31mKeyboardInterrupt\u001b[0m                         Traceback (most recent call last)",
      "\u001b[1;32m<ipython-input-10-f2bc5b056419>\u001b[0m in \u001b[0;36m<module>\u001b[1;34m\u001b[0m\n\u001b[0;32m     35\u001b[0m     \u001b[0mexit\u001b[0m\u001b[1;33m(\u001b[0m\u001b[1;33m)\u001b[0m\u001b[1;33m\u001b[0m\u001b[1;33m\u001b[0m\u001b[0m\n\u001b[0;32m     36\u001b[0m \u001b[1;32melse\u001b[0m\u001b[1;33m:\u001b[0m\u001b[1;33m\u001b[0m\u001b[1;33m\u001b[0m\u001b[0m\n\u001b[1;32m---> 37\u001b[1;33m     \u001b[0mrun\u001b[0m\u001b[1;33m(\u001b[0m\u001b[0masset\u001b[0m\u001b[1;33m)\u001b[0m \u001b[1;31m# trade asset PETR4\u001b[0m\u001b[1;33m\u001b[0m\u001b[1;33m\u001b[0m\u001b[0m\n\u001b[0m",
      "\u001b[1;32m<ipython-input-10-f2bc5b056419>\u001b[0m in \u001b[0;36mrun\u001b[1;34m(asset)\u001b[0m\n\u001b[0;32m     28\u001b[0m         \u001b[1;32melse\u001b[0m\u001b[1;33m:\u001b[0m\u001b[1;33m\u001b[0m\u001b[1;33m\u001b[0m\u001b[0m\n\u001b[0;32m     29\u001b[0m             \u001b[0mprint\u001b[0m\u001b[1;33m(\u001b[0m\u001b[1;34m\"No order at the moment for asset=\"\u001b[0m\u001b[1;33m,\u001b[0m\u001b[0masset\u001b[0m \u001b[1;33m)\u001b[0m\u001b[1;33m\u001b[0m\u001b[1;33m\u001b[0m\u001b[0m\n\u001b[1;32m---> 30\u001b[1;33m         \u001b[0mtime\u001b[0m\u001b[1;33m.\u001b[0m\u001b[0msleep\u001b[0m\u001b[1;33m(\u001b[0m\u001b[1;36m1\u001b[0m\u001b[1;33m)\u001b[0m   \u001b[1;31m# waits one second\u001b[0m\u001b[1;33m\u001b[0m\u001b[1;33m\u001b[0m\u001b[0m\n\u001b[0m\u001b[0;32m     31\u001b[0m     \u001b[0mprint\u001b[0m\u001b[1;33m(\u001b[0m\u001b[1;34m'Market is now closed!'\u001b[0m\u001b[1;33m)\u001b[0m\u001b[1;33m\u001b[0m\u001b[1;33m\u001b[0m\u001b[0m\n\u001b[0;32m     32\u001b[0m \u001b[1;33m\u001b[0m\u001b[0m\n",
      "\u001b[1;31mKeyboardInterrupt\u001b[0m: "
     ]
    }
   ],
   "source": [
    "\n",
    "\n",
    "import mt5se as se\n",
    "import pandas as pd\n",
    "import time\n",
    "asset='AAPL'\n",
    "\n",
    "def run(asset):\n",
    "    while se.is_market_open(asset):\n",
    "        print(\"getting information\")\n",
    "        bars=se.get_bars(asset,14)\n",
    "        curr_shares=se.get_shares(asset)\n",
    "        # number of shares that you can buy\n",
    "        free_shares=se.get_affor_shares(asset)\n",
    "        rsi=se.tech.rsi(bars)\n",
    "        print(\"deliberating\")\n",
    "        if rsi>=70 and free_shares>0: \n",
    "            order=se.buyOrder(asset,free_shares)\n",
    "        elif  rsi<70 and curr_shares>0:\n",
    "            order=se.sellOrder(asset,curr_shares)\n",
    "        else:\n",
    "            order=None\n",
    "        print(\"sending order\")\n",
    "        # check and send (it is sent only if check is ok!)\n",
    "        if order!=None:\n",
    "            if se.checkOrder(order) and se.sendOrder(order): \n",
    "                print('order sent to se')\n",
    "            else:\n",
    "                print('Error  : ',se.getLastError())\n",
    "        else:\n",
    "            print(\"No order at the moment for asset=\",asset )\n",
    "        time.sleep(1)   # waits one second   \t\t\n",
    "    print('Market is now closed!')\n",
    "\n",
    "if se.connect()==False:\n",
    "    print('Error when trying to connect to se')\n",
    "    exit()\n",
    "else:\n",
    "    run(asset) # trade asset PETR4"
   ]
  },
  {
   "source": [
    "### Multiple asset Trading Robot"
   ],
   "cell_type": "markdown",
   "metadata": {}
  },
  {
   "cell_type": "code",
   "execution_count": 15,
   "metadata": {},
   "outputs": [],
   "source": [
    "#Multiple asset Robot (Example), single strategy for multiple assets, where the resources are equally shared among the assets\n",
    "import time\n",
    "\n",
    "def runMultiAsset(assets):\n",
    "    while se.is_market_open(assets[0]):\n",
    "        for asset in assets:\n",
    "            bars=se.get_bars(asset,14)    #get information\n",
    "            curr_shares=se.get_shares(asset)\n",
    "            money=se.account_info().margin_free/len(assets)   # number of shares that you can buy\n",
    "            free_shares=se.get_affor_shares(asset,money)\n",
    "            rsi=se.tech.rsi(bars)\n",
    "            if rsi>=70 and free_shares>0: \n",
    "                order=se.buyOrder(asset,free_shares)\n",
    "            elif  rsi<70 and curr_shares>0:\n",
    "                order=se.sellOrder(asset,curr_shares)\n",
    "            else:\n",
    "                order=None\n",
    "            if order!=None: # check and send if it is Ok\n",
    "                if se.checkOrder(order) and se.sendOrder(order): \n",
    "                    print('order sent to se')\n",
    "                else:\n",
    "                    print('Error  : ',se.getLastError())\n",
    "            else:\n",
    "                print(\"No order at the moment for asset=\",asset)\n",
    "            time.sleep(1) \n",
    "    print('Market is now closed!')\n",
    "\t\t\n",
    "\n"
   ]
  },
  {
   "source": [
    "## Running multiple asset direct control code!\n",
    "\n"
   ],
   "cell_type": "markdown",
   "metadata": {}
  },
  {
   "cell_type": "code",
   "execution_count": 16,
   "metadata": {},
   "outputs": [
    {
     "output_type": "stream",
     "name": "stdout",
     "text": [
      "No order at the moment for asset= GOOG\n",
      "No order at the moment for asset= AAPL\n",
      "No order at the moment for asset= GOOG\n",
      "No order at the moment for asset= AAPL\n"
     ]
    },
    {
     "output_type": "error",
     "ename": "KeyboardInterrupt",
     "evalue": "",
     "traceback": [
      "\u001b[1;31m---------------------------------------------------------------------------\u001b[0m",
      "\u001b[1;31mKeyboardInterrupt\u001b[0m                         Traceback (most recent call last)",
      "\u001b[1;32m<ipython-input-16-2a038eee6ff4>\u001b[0m in \u001b[0;36m<module>\u001b[1;34m\u001b[0m\n\u001b[0;32m      1\u001b[0m \u001b[0massets\u001b[0m\u001b[1;33m=\u001b[0m\u001b[1;33m[\u001b[0m\u001b[1;34m'GOOG'\u001b[0m\u001b[1;33m,\u001b[0m\u001b[1;34m'AAPL'\u001b[0m\u001b[1;33m]\u001b[0m\u001b[1;33m\u001b[0m\u001b[1;33m\u001b[0m\u001b[0m\n\u001b[0;32m      2\u001b[0m \u001b[1;33m\u001b[0m\u001b[0m\n\u001b[1;32m----> 3\u001b[1;33m \u001b[0mrunMultiAsset\u001b[0m\u001b[1;33m(\u001b[0m\u001b[0massets\u001b[0m\u001b[1;33m)\u001b[0m \u001b[1;31m# trade asset\u001b[0m\u001b[1;33m\u001b[0m\u001b[1;33m\u001b[0m\u001b[0m\n\u001b[0m",
      "\u001b[1;32m<ipython-input-15-42fd55a20c01>\u001b[0m in \u001b[0;36mrunMultiAsset\u001b[1;34m(assets)\u001b[0m\n\u001b[0;32m     23\u001b[0m             \u001b[1;32melse\u001b[0m\u001b[1;33m:\u001b[0m\u001b[1;33m\u001b[0m\u001b[1;33m\u001b[0m\u001b[0m\n\u001b[0;32m     24\u001b[0m                 \u001b[0mprint\u001b[0m\u001b[1;33m(\u001b[0m\u001b[1;34m\"No order at the moment for asset=\"\u001b[0m\u001b[1;33m,\u001b[0m\u001b[0masset\u001b[0m\u001b[1;33m)\u001b[0m\u001b[1;33m\u001b[0m\u001b[1;33m\u001b[0m\u001b[0m\n\u001b[1;32m---> 25\u001b[1;33m             \u001b[0mtime\u001b[0m\u001b[1;33m.\u001b[0m\u001b[0msleep\u001b[0m\u001b[1;33m(\u001b[0m\u001b[1;36m1\u001b[0m\u001b[1;33m)\u001b[0m\u001b[1;33m\u001b[0m\u001b[1;33m\u001b[0m\u001b[0m\n\u001b[0m\u001b[0;32m     26\u001b[0m     \u001b[0mprint\u001b[0m\u001b[1;33m(\u001b[0m\u001b[1;34m'Market is now closed!'\u001b[0m\u001b[1;33m)\u001b[0m\u001b[1;33m\u001b[0m\u001b[1;33m\u001b[0m\u001b[0m\n\u001b[0;32m     27\u001b[0m \u001b[1;33m\u001b[0m\u001b[0m\n",
      "\u001b[1;31mKeyboardInterrupt\u001b[0m: "
     ]
    }
   ],
   "source": [
    "\n",
    "assets=['GOOG','AAPL']\n",
    "\n",
    "runMultiAsset(assets) # trade asset "
   ]
  },
  {
   "source": [
    "### Processing Financial Data - Return Histogram Example "
   ],
   "cell_type": "markdown",
   "metadata": {}
  },
  {
   "cell_type": "code",
   "execution_count": 1,
   "metadata": {},
   "outputs": [
    {
     "output_type": "display_data",
     "data": {
      "text/plain": "<Figure size 432x288 with 1 Axes>",
      "image/svg+xml": "<?xml version=\"1.0\" encoding=\"utf-8\" standalone=\"no\"?>\r\n<!DOCTYPE svg PUBLIC \"-//W3C//DTD SVG 1.1//EN\"\r\n  \"http://www.w3.org/Graphics/SVG/1.1/DTD/svg11.dtd\">\r\n<!-- Created with matplotlib (https://matplotlib.org/) -->\r\n<svg height=\"250.591629pt\" version=\"1.1\" viewBox=\"0 0 368.925 250.591629\" width=\"368.925pt\" xmlns=\"http://www.w3.org/2000/svg\" xmlns:xlink=\"http://www.w3.org/1999/xlink\">\r\n <defs>\r\n  <style type=\"text/css\">\r\n*{stroke-linecap:butt;stroke-linejoin:round;}\r\n  </style>\r\n </defs>\r\n <g id=\"figure_1\">\r\n  <g id=\"patch_1\">\r\n   <path d=\"M -0 250.591629 \r\nL 368.925 250.591629 \r\nL 368.925 0 \r\nL -0 0 \r\nz\r\n\" style=\"fill:none;\"/>\r\n  </g>\r\n  <g id=\"axes_1\">\r\n   <g id=\"patch_2\">\r\n    <path d=\"M 26.925 226.713504 \r\nL 361.725 226.713504 \r\nL 361.725 9.273504 \r\nL 26.925 9.273504 \r\nz\r\n\" style=\"fill:#ffffff;\"/>\r\n   </g>\r\n   <g id=\"patch_3\">\r\n    <path clip-path=\"url(#p4a67b424b8)\" d=\"M 42.143182 226.713504 \r\nL 61.165909 226.713504 \r\nL 61.165909 222.399219 \r\nL 42.143182 222.399219 \r\nz\r\n\" style=\"fill:#1f77b4;\"/>\r\n   </g>\r\n   <g id=\"patch_4\">\r\n    <path clip-path=\"url(#p4a67b424b8)\" d=\"M 61.165909 226.713504 \r\nL 80.188636 226.713504 \r\nL 80.188636 226.713504 \r\nL 61.165909 226.713504 \r\nz\r\n\" style=\"fill:#1f77b4;\"/>\r\n   </g>\r\n   <g id=\"patch_5\">\r\n    <path clip-path=\"url(#p4a67b424b8)\" d=\"M 80.188636 226.713504 \r\nL 99.211364 226.713504 \r\nL 99.211364 222.399219 \r\nL 80.188636 222.399219 \r\nz\r\n\" style=\"fill:#1f77b4;\"/>\r\n   </g>\r\n   <g id=\"patch_6\">\r\n    <path clip-path=\"url(#p4a67b424b8)\" d=\"M 99.211364 226.713504 \r\nL 118.234091 226.713504 \r\nL 118.234091 213.770647 \r\nL 99.211364 213.770647 \r\nz\r\n\" style=\"fill:#1f77b4;\"/>\r\n   </g>\r\n   <g id=\"patch_7\">\r\n    <path clip-path=\"url(#p4a67b424b8)\" d=\"M 118.234091 226.713504 \r\nL 137.256818 226.713504 \r\nL 137.256818 213.770647 \r\nL 118.234091 213.770647 \r\nz\r\n\" style=\"fill:#1f77b4;\"/>\r\n   </g>\r\n   <g id=\"patch_8\">\r\n    <path clip-path=\"url(#p4a67b424b8)\" d=\"M 137.256818 226.713504 \r\nL 156.279545 226.713504 \r\nL 156.279545 200.82779 \r\nL 137.256818 200.82779 \r\nz\r\n\" style=\"fill:#1f77b4;\"/>\r\n   </g>\r\n   <g id=\"patch_9\">\r\n    <path clip-path=\"url(#p4a67b424b8)\" d=\"M 156.279545 226.713504 \r\nL 175.302273 226.713504 \r\nL 175.302273 170.62779 \r\nL 156.279545 170.62779 \r\nz\r\n\" style=\"fill:#1f77b4;\"/>\r\n   </g>\r\n   <g id=\"patch_10\">\r\n    <path clip-path=\"url(#p4a67b424b8)\" d=\"M 175.302273 226.713504 \r\nL 194.325 226.713504 \r\nL 194.325 140.42779 \r\nL 175.302273 140.42779 \r\nz\r\n\" style=\"fill:#1f77b4;\"/>\r\n   </g>\r\n   <g id=\"patch_11\">\r\n    <path clip-path=\"url(#p4a67b424b8)\" d=\"M 194.325 226.713504 \r\nL 213.347727 226.713504 \r\nL 213.347727 92.970647 \r\nL 194.325 92.970647 \r\nz\r\n\" style=\"fill:#1f77b4;\"/>\r\n   </g>\r\n   <g id=\"patch_12\">\r\n    <path clip-path=\"url(#p4a67b424b8)\" d=\"M 213.347727 226.713504 \r\nL 232.370455 226.713504 \r\nL 232.370455 84.342076 \r\nL 213.347727 84.342076 \r\nz\r\n\" style=\"fill:#1f77b4;\"/>\r\n   </g>\r\n   <g id=\"patch_13\">\r\n    <path clip-path=\"url(#p4a67b424b8)\" d=\"M 232.370455 226.713504 \r\nL 251.393182 226.713504 \r\nL 251.393182 19.62779 \r\nL 232.370455 19.62779 \r\nz\r\n\" style=\"fill:#1f77b4;\"/>\r\n   </g>\r\n   <g id=\"patch_14\">\r\n    <path clip-path=\"url(#p4a67b424b8)\" d=\"M 251.393182 226.713504 \r\nL 270.415909 226.713504 \r\nL 270.415909 105.913504 \r\nL 251.393182 105.913504 \r\nz\r\n\" style=\"fill:#1f77b4;\"/>\r\n   </g>\r\n   <g id=\"patch_15\">\r\n    <path clip-path=\"url(#p4a67b424b8)\" d=\"M 270.415909 226.713504 \r\nL 289.438636 226.713504 \r\nL 289.438636 92.970647 \r\nL 270.415909 92.970647 \r\nz\r\n\" style=\"fill:#1f77b4;\"/>\r\n   </g>\r\n   <g id=\"patch_16\">\r\n    <path clip-path=\"url(#p4a67b424b8)\" d=\"M 289.438636 226.713504 \r\nL 308.461364 226.713504 \r\nL 308.461364 166.313504 \r\nL 289.438636 166.313504 \r\nz\r\n\" style=\"fill:#1f77b4;\"/>\r\n   </g>\r\n   <g id=\"patch_17\">\r\n    <path clip-path=\"url(#p4a67b424b8)\" d=\"M 308.461364 226.713504 \r\nL 327.484091 226.713504 \r\nL 327.484091 174.942076 \r\nL 308.461364 174.942076 \r\nz\r\n\" style=\"fill:#1f77b4;\"/>\r\n   </g>\r\n   <g id=\"patch_18\">\r\n    <path clip-path=\"url(#p4a67b424b8)\" d=\"M 327.484091 226.713504 \r\nL 346.506818 226.713504 \r\nL 346.506818 192.199219 \r\nL 327.484091 192.199219 \r\nz\r\n\" style=\"fill:#1f77b4;\"/>\r\n   </g>\r\n   <g id=\"matplotlib.axis_1\">\r\n    <g id=\"xtick_1\">\r\n     <g id=\"line2d_1\">\r\n      <path clip-path=\"url(#p4a67b424b8)\" d=\"M 86.56308 226.713504 \r\nL 86.56308 9.273504 \r\n\" style=\"fill:none;stroke:#b0b0b0;stroke-linecap:square;stroke-width:0.8;\"/>\r\n     </g>\r\n     <g id=\"line2d_2\">\r\n      <defs>\r\n       <path d=\"M 0 0 \r\nL 0 3.5 \r\n\" id=\"m2ebdf3d024\" style=\"stroke:#000000;stroke-width:0.8;\"/>\r\n      </defs>\r\n      <g>\r\n       <use style=\"stroke:#000000;stroke-width:0.8;\" x=\"86.56308\" xlink:href=\"#m2ebdf3d024\" y=\"226.713504\"/>\r\n      </g>\r\n     </g>\r\n     <g id=\"text_1\">\r\n      <!-- −0.04 -->\r\n      <defs>\r\n       <path d=\"M 10.59375 35.5 \r\nL 73.1875 35.5 \r\nL 73.1875 27.203125 \r\nL 10.59375 27.203125 \r\nz\r\n\" id=\"DejaVuSans-8722\"/>\r\n       <path d=\"M 31.78125 66.40625 \r\nQ 24.171875 66.40625 20.328125 58.90625 \r\nQ 16.5 51.421875 16.5 36.375 \r\nQ 16.5 21.390625 20.328125 13.890625 \r\nQ 24.171875 6.390625 31.78125 6.390625 \r\nQ 39.453125 6.390625 43.28125 13.890625 \r\nQ 47.125 21.390625 47.125 36.375 \r\nQ 47.125 51.421875 43.28125 58.90625 \r\nQ 39.453125 66.40625 31.78125 66.40625 \r\nz\r\nM 31.78125 74.21875 \r\nQ 44.046875 74.21875 50.515625 64.515625 \r\nQ 56.984375 54.828125 56.984375 36.375 \r\nQ 56.984375 17.96875 50.515625 8.265625 \r\nQ 44.046875 -1.421875 31.78125 -1.421875 \r\nQ 19.53125 -1.421875 13.0625 8.265625 \r\nQ 6.59375 17.96875 6.59375 36.375 \r\nQ 6.59375 54.828125 13.0625 64.515625 \r\nQ 19.53125 74.21875 31.78125 74.21875 \r\nz\r\n\" id=\"DejaVuSans-48\"/>\r\n       <path d=\"M 10.6875 12.40625 \r\nL 21 12.40625 \r\nL 21 0 \r\nL 10.6875 0 \r\nz\r\n\" id=\"DejaVuSans-46\"/>\r\n       <path d=\"M 37.796875 64.3125 \r\nL 12.890625 25.390625 \r\nL 37.796875 25.390625 \r\nz\r\nM 35.203125 72.90625 \r\nL 47.609375 72.90625 \r\nL 47.609375 25.390625 \r\nL 58.015625 25.390625 \r\nL 58.015625 17.1875 \r\nL 47.609375 17.1875 \r\nL 47.609375 0 \r\nL 37.796875 0 \r\nL 37.796875 17.1875 \r\nL 4.890625 17.1875 \r\nL 4.890625 26.703125 \r\nz\r\n\" id=\"DejaVuSans-52\"/>\r\n      </defs>\r\n      <g transform=\"translate(71.240424 241.311942)scale(0.1 -0.1)\">\r\n       <use xlink:href=\"#DejaVuSans-8722\"/>\r\n       <use x=\"83.789062\" xlink:href=\"#DejaVuSans-48\"/>\r\n       <use x=\"147.412109\" xlink:href=\"#DejaVuSans-46\"/>\r\n       <use x=\"179.199219\" xlink:href=\"#DejaVuSans-48\"/>\r\n       <use x=\"242.822266\" xlink:href=\"#DejaVuSans-52\"/>\r\n      </g>\r\n     </g>\r\n    </g>\r\n    <g id=\"xtick_2\">\r\n     <g id=\"line2d_3\">\r\n      <path clip-path=\"url(#p4a67b424b8)\" d=\"M 159.575024 226.713504 \r\nL 159.575024 9.273504 \r\n\" style=\"fill:none;stroke:#b0b0b0;stroke-linecap:square;stroke-width:0.8;\"/>\r\n     </g>\r\n     <g id=\"line2d_4\">\r\n      <g>\r\n       <use style=\"stroke:#000000;stroke-width:0.8;\" x=\"159.575024\" xlink:href=\"#m2ebdf3d024\" y=\"226.713504\"/>\r\n      </g>\r\n     </g>\r\n     <g id=\"text_2\">\r\n      <!-- −0.02 -->\r\n      <defs>\r\n       <path d=\"M 19.1875 8.296875 \r\nL 53.609375 8.296875 \r\nL 53.609375 0 \r\nL 7.328125 0 \r\nL 7.328125 8.296875 \r\nQ 12.9375 14.109375 22.625 23.890625 \r\nQ 32.328125 33.6875 34.8125 36.53125 \r\nQ 39.546875 41.84375 41.421875 45.53125 \r\nQ 43.3125 49.21875 43.3125 52.78125 \r\nQ 43.3125 58.59375 39.234375 62.25 \r\nQ 35.15625 65.921875 28.609375 65.921875 \r\nQ 23.96875 65.921875 18.8125 64.3125 \r\nQ 13.671875 62.703125 7.8125 59.421875 \r\nL 7.8125 69.390625 \r\nQ 13.765625 71.78125 18.9375 73 \r\nQ 24.125 74.21875 28.421875 74.21875 \r\nQ 39.75 74.21875 46.484375 68.546875 \r\nQ 53.21875 62.890625 53.21875 53.421875 \r\nQ 53.21875 48.921875 51.53125 44.890625 \r\nQ 49.859375 40.875 45.40625 35.40625 \r\nQ 44.1875 33.984375 37.640625 27.21875 \r\nQ 31.109375 20.453125 19.1875 8.296875 \r\nz\r\n\" id=\"DejaVuSans-50\"/>\r\n      </defs>\r\n      <g transform=\"translate(144.252368 241.311942)scale(0.1 -0.1)\">\r\n       <use xlink:href=\"#DejaVuSans-8722\"/>\r\n       <use x=\"83.789062\" xlink:href=\"#DejaVuSans-48\"/>\r\n       <use x=\"147.412109\" xlink:href=\"#DejaVuSans-46\"/>\r\n       <use x=\"179.199219\" xlink:href=\"#DejaVuSans-48\"/>\r\n       <use x=\"242.822266\" xlink:href=\"#DejaVuSans-50\"/>\r\n      </g>\r\n     </g>\r\n    </g>\r\n    <g id=\"xtick_3\">\r\n     <g id=\"line2d_5\">\r\n      <path clip-path=\"url(#p4a67b424b8)\" d=\"M 232.586968 226.713504 \r\nL 232.586968 9.273504 \r\n\" style=\"fill:none;stroke:#b0b0b0;stroke-linecap:square;stroke-width:0.8;\"/>\r\n     </g>\r\n     <g id=\"line2d_6\">\r\n      <g>\r\n       <use style=\"stroke:#000000;stroke-width:0.8;\" x=\"232.586968\" xlink:href=\"#m2ebdf3d024\" y=\"226.713504\"/>\r\n      </g>\r\n     </g>\r\n     <g id=\"text_3\">\r\n      <!-- 0.00 -->\r\n      <g transform=\"translate(221.454156 241.311942)scale(0.1 -0.1)\">\r\n       <use xlink:href=\"#DejaVuSans-48\"/>\r\n       <use x=\"63.623047\" xlink:href=\"#DejaVuSans-46\"/>\r\n       <use x=\"95.410156\" xlink:href=\"#DejaVuSans-48\"/>\r\n       <use x=\"159.033203\" xlink:href=\"#DejaVuSans-48\"/>\r\n      </g>\r\n     </g>\r\n    </g>\r\n    <g id=\"xtick_4\">\r\n     <g id=\"line2d_7\">\r\n      <path clip-path=\"url(#p4a67b424b8)\" d=\"M 305.598912 226.713504 \r\nL 305.598912 9.273504 \r\n\" style=\"fill:none;stroke:#b0b0b0;stroke-linecap:square;stroke-width:0.8;\"/>\r\n     </g>\r\n     <g id=\"line2d_8\">\r\n      <g>\r\n       <use style=\"stroke:#000000;stroke-width:0.8;\" x=\"305.598912\" xlink:href=\"#m2ebdf3d024\" y=\"226.713504\"/>\r\n      </g>\r\n     </g>\r\n     <g id=\"text_4\">\r\n      <!-- 0.02 -->\r\n      <g transform=\"translate(294.4661 241.311942)scale(0.1 -0.1)\">\r\n       <use xlink:href=\"#DejaVuSans-48\"/>\r\n       <use x=\"63.623047\" xlink:href=\"#DejaVuSans-46\"/>\r\n       <use x=\"95.410156\" xlink:href=\"#DejaVuSans-48\"/>\r\n       <use x=\"159.033203\" xlink:href=\"#DejaVuSans-50\"/>\r\n      </g>\r\n     </g>\r\n    </g>\r\n   </g>\r\n   <g id=\"matplotlib.axis_2\">\r\n    <g id=\"ytick_1\">\r\n     <g id=\"line2d_9\">\r\n      <path clip-path=\"url(#p4a67b424b8)\" d=\"M 26.925 226.713504 \r\nL 361.725 226.713504 \r\n\" style=\"fill:none;stroke:#b0b0b0;stroke-linecap:square;stroke-width:0.8;\"/>\r\n     </g>\r\n     <g id=\"line2d_10\">\r\n      <defs>\r\n       <path d=\"M 0 0 \r\nL -3.5 0 \r\n\" id=\"m89ff61b1a8\" style=\"stroke:#000000;stroke-width:0.8;\"/>\r\n      </defs>\r\n      <g>\r\n       <use style=\"stroke:#000000;stroke-width:0.8;\" x=\"26.925\" xlink:href=\"#m89ff61b1a8\" y=\"226.713504\"/>\r\n      </g>\r\n     </g>\r\n     <g id=\"text_5\">\r\n      <!-- 0 -->\r\n      <g transform=\"translate(13.5625 230.512723)scale(0.1 -0.1)\">\r\n       <use xlink:href=\"#DejaVuSans-48\"/>\r\n      </g>\r\n     </g>\r\n    </g>\r\n    <g id=\"ytick_2\">\r\n     <g id=\"line2d_11\">\r\n      <path clip-path=\"url(#p4a67b424b8)\" d=\"M 26.925 183.570647 \r\nL 361.725 183.570647 \r\n\" style=\"fill:none;stroke:#b0b0b0;stroke-linecap:square;stroke-width:0.8;\"/>\r\n     </g>\r\n     <g id=\"line2d_12\">\r\n      <g>\r\n       <use style=\"stroke:#000000;stroke-width:0.8;\" x=\"26.925\" xlink:href=\"#m89ff61b1a8\" y=\"183.570647\"/>\r\n      </g>\r\n     </g>\r\n     <g id=\"text_6\">\r\n      <!-- 10 -->\r\n      <defs>\r\n       <path d=\"M 12.40625 8.296875 \r\nL 28.515625 8.296875 \r\nL 28.515625 63.921875 \r\nL 10.984375 60.40625 \r\nL 10.984375 69.390625 \r\nL 28.421875 72.90625 \r\nL 38.28125 72.90625 \r\nL 38.28125 8.296875 \r\nL 54.390625 8.296875 \r\nL 54.390625 0 \r\nL 12.40625 0 \r\nz\r\n\" id=\"DejaVuSans-49\"/>\r\n      </defs>\r\n      <g transform=\"translate(7.2 187.369866)scale(0.1 -0.1)\">\r\n       <use xlink:href=\"#DejaVuSans-49\"/>\r\n       <use x=\"63.623047\" xlink:href=\"#DejaVuSans-48\"/>\r\n      </g>\r\n     </g>\r\n    </g>\r\n    <g id=\"ytick_3\">\r\n     <g id=\"line2d_13\">\r\n      <path clip-path=\"url(#p4a67b424b8)\" d=\"M 26.925 140.42779 \r\nL 361.725 140.42779 \r\n\" style=\"fill:none;stroke:#b0b0b0;stroke-linecap:square;stroke-width:0.8;\"/>\r\n     </g>\r\n     <g id=\"line2d_14\">\r\n      <g>\r\n       <use style=\"stroke:#000000;stroke-width:0.8;\" x=\"26.925\" xlink:href=\"#m89ff61b1a8\" y=\"140.42779\"/>\r\n      </g>\r\n     </g>\r\n     <g id=\"text_7\">\r\n      <!-- 20 -->\r\n      <g transform=\"translate(7.2 144.227009)scale(0.1 -0.1)\">\r\n       <use xlink:href=\"#DejaVuSans-50\"/>\r\n       <use x=\"63.623047\" xlink:href=\"#DejaVuSans-48\"/>\r\n      </g>\r\n     </g>\r\n    </g>\r\n    <g id=\"ytick_4\">\r\n     <g id=\"line2d_15\">\r\n      <path clip-path=\"url(#p4a67b424b8)\" d=\"M 26.925 97.284933 \r\nL 361.725 97.284933 \r\n\" style=\"fill:none;stroke:#b0b0b0;stroke-linecap:square;stroke-width:0.8;\"/>\r\n     </g>\r\n     <g id=\"line2d_16\">\r\n      <g>\r\n       <use style=\"stroke:#000000;stroke-width:0.8;\" x=\"26.925\" xlink:href=\"#m89ff61b1a8\" y=\"97.284933\"/>\r\n      </g>\r\n     </g>\r\n     <g id=\"text_8\">\r\n      <!-- 30 -->\r\n      <defs>\r\n       <path d=\"M 40.578125 39.3125 \r\nQ 47.65625 37.796875 51.625 33 \r\nQ 55.609375 28.21875 55.609375 21.1875 \r\nQ 55.609375 10.40625 48.1875 4.484375 \r\nQ 40.765625 -1.421875 27.09375 -1.421875 \r\nQ 22.515625 -1.421875 17.65625 -0.515625 \r\nQ 12.796875 0.390625 7.625 2.203125 \r\nL 7.625 11.71875 \r\nQ 11.71875 9.328125 16.59375 8.109375 \r\nQ 21.484375 6.890625 26.8125 6.890625 \r\nQ 36.078125 6.890625 40.9375 10.546875 \r\nQ 45.796875 14.203125 45.796875 21.1875 \r\nQ 45.796875 27.640625 41.28125 31.265625 \r\nQ 36.765625 34.90625 28.71875 34.90625 \r\nL 20.21875 34.90625 \r\nL 20.21875 43.015625 \r\nL 29.109375 43.015625 \r\nQ 36.375 43.015625 40.234375 45.921875 \r\nQ 44.09375 48.828125 44.09375 54.296875 \r\nQ 44.09375 59.90625 40.109375 62.90625 \r\nQ 36.140625 65.921875 28.71875 65.921875 \r\nQ 24.65625 65.921875 20.015625 65.03125 \r\nQ 15.375 64.15625 9.8125 62.3125 \r\nL 9.8125 71.09375 \r\nQ 15.4375 72.65625 20.34375 73.4375 \r\nQ 25.25 74.21875 29.59375 74.21875 \r\nQ 40.828125 74.21875 47.359375 69.109375 \r\nQ 53.90625 64.015625 53.90625 55.328125 \r\nQ 53.90625 49.265625 50.4375 45.09375 \r\nQ 46.96875 40.921875 40.578125 39.3125 \r\nz\r\n\" id=\"DejaVuSans-51\"/>\r\n      </defs>\r\n      <g transform=\"translate(7.2 101.084152)scale(0.1 -0.1)\">\r\n       <use xlink:href=\"#DejaVuSans-51\"/>\r\n       <use x=\"63.623047\" xlink:href=\"#DejaVuSans-48\"/>\r\n      </g>\r\n     </g>\r\n    </g>\r\n    <g id=\"ytick_5\">\r\n     <g id=\"line2d_17\">\r\n      <path clip-path=\"url(#p4a67b424b8)\" d=\"M 26.925 54.142076 \r\nL 361.725 54.142076 \r\n\" style=\"fill:none;stroke:#b0b0b0;stroke-linecap:square;stroke-width:0.8;\"/>\r\n     </g>\r\n     <g id=\"line2d_18\">\r\n      <g>\r\n       <use style=\"stroke:#000000;stroke-width:0.8;\" x=\"26.925\" xlink:href=\"#m89ff61b1a8\" y=\"54.142076\"/>\r\n      </g>\r\n     </g>\r\n     <g id=\"text_9\">\r\n      <!-- 40 -->\r\n      <g transform=\"translate(7.2 57.941295)scale(0.1 -0.1)\">\r\n       <use xlink:href=\"#DejaVuSans-52\"/>\r\n       <use x=\"63.623047\" xlink:href=\"#DejaVuSans-48\"/>\r\n      </g>\r\n     </g>\r\n    </g>\r\n    <g id=\"ytick_6\">\r\n     <g id=\"line2d_19\">\r\n      <path clip-path=\"url(#p4a67b424b8)\" d=\"M 26.925 10.999219 \r\nL 361.725 10.999219 \r\n\" style=\"fill:none;stroke:#b0b0b0;stroke-linecap:square;stroke-width:0.8;\"/>\r\n     </g>\r\n     <g id=\"line2d_20\">\r\n      <g>\r\n       <use style=\"stroke:#000000;stroke-width:0.8;\" x=\"26.925\" xlink:href=\"#m89ff61b1a8\" y=\"10.999219\"/>\r\n      </g>\r\n     </g>\r\n     <g id=\"text_10\">\r\n      <!-- 50 -->\r\n      <defs>\r\n       <path d=\"M 10.796875 72.90625 \r\nL 49.515625 72.90625 \r\nL 49.515625 64.59375 \r\nL 19.828125 64.59375 \r\nL 19.828125 46.734375 \r\nQ 21.96875 47.46875 24.109375 47.828125 \r\nQ 26.265625 48.1875 28.421875 48.1875 \r\nQ 40.625 48.1875 47.75 41.5 \r\nQ 54.890625 34.8125 54.890625 23.390625 \r\nQ 54.890625 11.625 47.5625 5.09375 \r\nQ 40.234375 -1.421875 26.90625 -1.421875 \r\nQ 22.3125 -1.421875 17.546875 -0.640625 \r\nQ 12.796875 0.140625 7.71875 1.703125 \r\nL 7.71875 11.625 \r\nQ 12.109375 9.234375 16.796875 8.0625 \r\nQ 21.484375 6.890625 26.703125 6.890625 \r\nQ 35.15625 6.890625 40.078125 11.328125 \r\nQ 45.015625 15.765625 45.015625 23.390625 \r\nQ 45.015625 31 40.078125 35.4375 \r\nQ 35.15625 39.890625 26.703125 39.890625 \r\nQ 22.75 39.890625 18.8125 39.015625 \r\nQ 14.890625 38.140625 10.796875 36.28125 \r\nz\r\n\" id=\"DejaVuSans-53\"/>\r\n      </defs>\r\n      <g transform=\"translate(7.2 14.798437)scale(0.1 -0.1)\">\r\n       <use xlink:href=\"#DejaVuSans-53\"/>\r\n       <use x=\"63.623047\" xlink:href=\"#DejaVuSans-48\"/>\r\n      </g>\r\n     </g>\r\n    </g>\r\n   </g>\r\n   <g id=\"patch_19\">\r\n    <path d=\"M 26.925 226.713504 \r\nL 26.925 9.273504 \r\n\" style=\"fill:none;stroke:#000000;stroke-linecap:square;stroke-linejoin:miter;stroke-width:0.8;\"/>\r\n   </g>\r\n   <g id=\"patch_20\">\r\n    <path d=\"M 361.725 226.713504 \r\nL 361.725 9.273504 \r\n\" style=\"fill:none;stroke:#000000;stroke-linecap:square;stroke-linejoin:miter;stroke-width:0.8;\"/>\r\n   </g>\r\n   <g id=\"patch_21\">\r\n    <path d=\"M 26.925 226.713504 \r\nL 361.725 226.713504 \r\n\" style=\"fill:none;stroke:#000000;stroke-linecap:square;stroke-linejoin:miter;stroke-width:0.8;\"/>\r\n   </g>\r\n   <g id=\"patch_22\">\r\n    <path d=\"M 26.925 9.273504 \r\nL 361.725 9.273504 \r\n\" style=\"fill:none;stroke:#000000;stroke-linecap:square;stroke-linejoin:miter;stroke-width:0.8;\"/>\r\n   </g>\r\n  </g>\r\n </g>\r\n <defs>\r\n  <clipPath id=\"p4a67b424b8\">\r\n   <rect height=\"217.44\" width=\"334.8\" x=\"26.925\" y=\"9.273504\"/>\r\n  </clipPath>\r\n </defs>\r\n</svg>\r\n",
      "image/png": "[encoded data removed]"
     },
     "metadata": {
      "needs_background": "light"
     }
    }
   ],
   "source": [
    "import mt5se as se\n",
    "from datetime import datetime\n",
    "import pandas as pd\n",
    "import matplotlib.pyplot as plt\n",
    "import numpy as np\n",
    "asset='MSFT'\n",
    "se.connect()\n",
    "bars=se.get_bars(asset,252) # 252 business days (basically one year)\n",
    "x=se.get_returns(bars)  # calculate daily returns given the bars\n",
    "#With a small change we can see the historgram of weekly returns\n",
    "#x=se.getReturns(bars,offset=5)\n",
    "plt.hist(x,bins=16)  # creates a histogram graph with 16 bins\n",
    "plt.grid()\n",
    "plt.show()\n"
   ]
  },
  {
   "source": [
    "### Robots based on Inversion of control \n",
    "\n",
    "You may use an alternative method to build your robots, that may reduce your workload. It is called inverse control robots. You receive the most common information requrired by robots and returns your orders\n",
    "\n",
    "Let's some examples of Robots based on Inversion of Control including the multiasset strategy presented before in a  inverse control implementation"
   ],
   "cell_type": "markdown",
   "metadata": {}
  },
  {
   "source": [
    "### Trader class\n",
    "Inversion of control Traders are classes that inherint from se.Trader and they have to implement just one function:\n",
    "trade: It is called at each moment, with dbars. It should returns the list of orders to be executed or None if there is no order at the moment\n",
    "\n",
    "Your trader may also implement two other function if required:\n",
    "setup: It is called once when the operation starts. It receives dbars ('mem' bars from each asset) . See the operation setup, for more information\n",
    "\n",
    "ending: It is called one when the sheculed operation reaches its end time.\n",
    "\n",
    "Your  Trader class may also implement a constructor function\n",
    "\n",
    "Let's see an Example!"
   ],
   "cell_type": "markdown",
   "metadata": {}
  },
  {
   "source": [
    "### A Very Dummy Trader"
   ],
   "cell_type": "markdown",
   "metadata": {}
  },
  {
   "cell_type": "code",
   "execution_count": 2,
   "metadata": {},
   "outputs": [
    {
     "output_type": "stream",
     "name": "stdout",
     "text": [
      "Your trader class seems Ok!\n"
     ]
    }
   ],
   "source": [
    "import numpy.random as rand\n",
    "\n",
    "class DummyTrader(se.Trader):\n",
    "    def __init__(self):\n",
    "        pass\n",
    "\n",
    "    def setup(self,dbars):\n",
    "        print('just getting started!')\n",
    "\n",
    "    def trade(self,ops,dbars):\n",
    "        orders=[] \n",
    "        assets=ops['assets']\n",
    "        for asset in assets:\n",
    "            if rand.randint(2)==1:     \n",
    "                order=se.buyOrder(asset,100)\n",
    "            else:\n",
    "            \torder=se.sellOrder(asset,100)\n",
    "            orders.append(order)\n",
    "        return orders\n",
    "    \n",
    "    def ending(self,dbars):\n",
    "        print('Ending stuff')\n",
    "\n",
    "\n",
    "if issubclass(DummyTrader,se.Trader):\n",
    "    print('Your trader class seems Ok!')\n",
    "else:\n",
    "    print('Your trader class should a subclass of se.Trader')\n",
    "\n",
    "trader=DummyTrader()  # DummyTrader class also available in se.sampleTraders.DummyTrader()\n"
   ]
  },
  {
   "source": [
    "### Another Example of Trader class"
   ],
   "cell_type": "markdown",
   "metadata": {}
  },
  {
   "cell_type": "code",
   "execution_count": 3,
   "metadata": {},
   "outputs": [
    {
     "output_type": "stream",
     "name": "stdout",
     "text": [
      "Your trader class seems Ok!\n"
     ]
    }
   ],
   "source": [
    "class MultiAssetTrader(se.Trader):\n",
    "    def trade(self,bts,dbars):\n",
    "        assets=dbars.keys()\n",
    "        orders=[]\n",
    "        for asset in assets:\n",
    "            bars=dbars[asset]\n",
    "            curr_shares=se.backtest.get_shares(bts,asset)\n",
    "            money=se.backtest.get_balance(bts)/len(assets) # divide o saldo em dinheiro igualmente entre os ativos\n",
    "            # number of shares that you can buy of asset \n",
    "            free_shares=se.backtest.get_affor_shares(bts,dbars,asset,money)\n",
    "            rsi=se.tech.rsi(bars)\n",
    "            if rsi>=70 and free_shares>0: \n",
    "                order=se.buyOrder(asset,free_shares)\n",
    "            elif  rsi<70 and curr_shares>0:\n",
    "                order=se.sellOrder(asset,curr_shares)\n",
    "            else:\n",
    "                order=None\n",
    "            if order!=None:\n",
    "                orders.append(order)\n",
    "        return orders   \n",
    "\n",
    "if issubclass(MultiAssetTrader,se.Trader):\n",
    "    print('Your trader class seems Ok!')\n",
    "else:\n",
    "    print('Your trader class should a subclass of se.Trader')\n",
    "\n",
    "trader=MultiAssetTrader()  "
   ]
  },
  {
   "source": [
    "### Testing your Trader!!!\n",
    "\n",
    "The evaluation for trading robots is usually called backtesting. That means that a trading robot executes with  historical  price  series , and its performance is computed\n",
    "\n",
    "In backtesting, time is discretized according with bars and the package mt5se controls the information access to the Trader according with the simulated time.\n",
    "\n",
    "To backtest one strategy, you just need to create a subclass of Trader and implement one function:\n",
    "trade\n",
    "\n",
    "You may implement function setup, to prepare the Trader Strategy if it is required and a function ending to clean up after the backtest is done\n",
    "\n",
    "The simulation time advances and in function 'trade' the Trader class receives the new bar info and decides wich orders to send\n",
    "\n",
    "\n"
   ],
   "cell_type": "markdown",
   "metadata": {}
  },
  {
   "source": [
    "## Let's create a Simple Algorithmic Trader and Backtest it"
   ],
   "cell_type": "markdown",
   "metadata": {}
  },
  {
   "cell_type": "code",
   "execution_count": 4,
   "metadata": {},
   "outputs": [
    {
     "output_type": "stream",
     "name": "stdout",
     "text": [
      "<__main__.MonoAssetTrader object at 0x000002012D1657C8>\n"
     ]
    }
   ],
   "source": [
    "## Defines the Trader\n",
    "\n",
    "class MonoAssetTrader(se.Trader):\n",
    "    def trade(self,bts,dbars):\n",
    "        assets=dbars.keys()\n",
    "        asset=list(assets)[0]\n",
    "        orders=[]\n",
    "        bars=dbars[asset]\n",
    "        curr_shares=se.backtest.get_shares(bts,asset)\n",
    "        # number of shares that you can buy\n",
    "        free_shares=se.backtest.get_affor_shares(bts,dbars,asset)\n",
    "        rsi=se.tech.rsi(bars)\n",
    "        if rsi>=70:   \n",
    "            order=se.buyOrder(asset,free_shares)\n",
    "        else:\n",
    "            order=se.sellOrder(asset,curr_shares)\n",
    "        if rsi>=70 and free_shares>0: \n",
    "            order=se.buyOrder(asset,free_shares)\n",
    "        elif  rsi<70 and curr_shares>0:\n",
    "            order=se.sellOrder(asset,curr_shares)\n",
    "        if order!=None:\n",
    "                orders.append(order)\n",
    "        return orders   \n",
    "\n",
    "trader=MonoAssetTrader() # also available in se.sampleTraders.MonoAssetTrader()\n",
    "print(trader)\n"
   ]
  },
  {
   "source": [
    "## Setup and check a backtest!"
   ],
   "cell_type": "markdown",
   "metadata": {}
  },
  {
   "cell_type": "code",
   "execution_count": 5,
   "metadata": {},
   "outputs": [
    {
     "output_type": "stream",
     "name": "stdout",
     "text": [
      "Backtest Setup is Ok!\n"
     ]
    }
   ],
   "source": [
    "# sets Backtest options \n",
    "prestart=se.date(2018,12,10)\n",
    "start=se.date(2019,1,10)\n",
    "end=se.date(2019,2,27)\n",
    "capital=1000000\n",
    "results_file='data_equity_file.csv'\n",
    "verbose=False \n",
    "assets=['AAPL']\n",
    "# Use True if you want debug information for your Trader \n",
    "#sets the backtest setup\n",
    "period=se.DAILY \n",
    " # it may be se.INTRADAY (one minute interval)\n",
    "bts=se.backtest.set(assets,prestart,start,end,period,capital,results_file,verbose)\n",
    "\n",
    "# check if the backtest setup is ok!\n",
    "if se.backtest.checkBTS(bts): \n",
    "    print('Backtest Setup is Ok!')\n",
    "else:\n",
    "    print('Backtest Setup is NOT Ok!')\n",
    "\n"
   ]
  },
  {
   "source": [
    "## Run the Backtest"
   ],
   "cell_type": "markdown",
   "metadata": {}
  },
  {
   "cell_type": "code",
   "execution_count": 6,
   "metadata": {},
   "outputs": [
    {
     "output_type": "stream",
     "name": "stdout",
     "text": [
      "End of backtest with  32  bars,  saving equity file in  data_equity_file.csv\n"
     ]
    }
   ],
   "source": [
    "\n",
    "# Running the backtest\n",
    "df= se.backtest.run(trader,bts)   \n",
    "# run calls the Trader. setup and trade (once for each bar)\n",
    "\n"
   ]
  },
  {
   "source": [
    "## Evaluate the Backtest result"
   ],
   "cell_type": "markdown",
   "metadata": {}
  },
  {
   "cell_type": "code",
   "execution_count": 7,
   "metadata": {},
   "outputs": [
    {
     "output_type": "stream",
     "name": "stdout",
     "text": [
      "         date     balance      equity  load\n0  2019-01-11  1000000.00  1000000.00   0.0\n1  2019-01-14  1000000.00  1000000.00   0.0\n2  2019-01-15  1000000.00  1000000.00   0.0\n3  2019-01-16  1000000.00  1000000.00   0.0\n4  2019-01-17  1000000.00  1000000.00   0.0\n5  2019-01-18  1000000.00  1000000.00   0.0\n6  2019-01-22  1000000.00  1000000.00   0.0\n7  2019-01-23  1000000.00  1000000.00   0.0\n8  2019-01-24  1000000.00  1000000.00   0.0\n9  2019-01-25  1000000.00  1000000.00   0.0\n10 2019-01-28  1000000.00  1000000.00   0.0\n11 2019-01-29  1000000.00  1000000.00   0.0\n12 2019-01-30  1000000.00  1000000.00   0.0\n13 2019-01-31  1000000.00  1000000.00   0.0\n14 2019-02-01  1000000.00  1000000.00   0.0\n15 2019-02-04   -26968.81  1000000.00   0.0\n16 2019-02-05   -26968.81  1017157.14   0.0\n17 2019-02-06   -26968.81  1017877.02   0.0\n18 2019-02-07   -26968.81   998500.25   0.0\n19 2019-02-08   994060.99   994060.99   0.0\n20 2019-02-11   994060.99   994060.99   0.0\n21 2019-02-12   994060.99   994060.99   0.0\n22 2019-02-13   994060.99   994060.99   0.0\n23 2019-02-14   994060.99   994060.99   0.0\n24 2019-02-15    -4536.19   994060.99   0.0\n25 2019-02-19    -4536.19   996874.27   0.0\n26 2019-02-20    -4536.19  1003555.81   0.0\n27 2019-02-21    -4536.19   997694.81   0.0\n28 2019-02-22    -4536.19  1007892.95   0.0\n29 2019-02-25    -4536.19  1015219.20   0.0\n30 2019-02-26    -4536.19  1015453.64   0.0\n31 2019-02-27    -4536.19  1020787.15   0.0\n\n -----------------------   Backtest Report  ------------------------------- \n\nTotal Return (%)=2.08 in 31 bars \nAverage Bar Return (%)=0.07  \nStd Deviation of returns (%) =0.5582\n\n ----------------------        End of Report     -------------------------------- \n\n"
     ]
    }
   ],
   "source": [
    "#print the results\n",
    "print(df)\n",
    "\n",
    "# evaluates the backtest results\n",
    "se.backtest.evaluate(df)\n"
   ]
  },
  {
   "source": [
    "## Evaluating Backtesting results\n",
    "\n",
    "The method backtest.run creates a data file with the name given in the backtest setup (bts) \n",
    "\n",
    "This will give you a report about the trader performance\n",
    "\n",
    "We need ot note that it is hard to perform meaningful evaluations using backtest. There are many pitfalls to avoid and it may be easier to get trading robots with great performance in backtest, but that perform really badly in real operations. \n",
    "\n",
    "More about that in mt5se backtest evaluation chapter.\n",
    "\n",
    "For a deeper discussion, we suggest:\n",
    "Is it a great Autonomous Trading Strategy or you are just fooling yourself Bernardini,M. and Castro, P.A.L\n",
    "\n",
    "In order to analyze the trader's backtest, you may use :\n",
    "\n",
    "se.backtest.evaluateFile(fileName)  #fileName is the name of file generated by the backtest\n",
    "or\n",
    "se.bactest.evaluate(df)  # df is the dataframe returned by se.backtest.run\n"
   ],
   "cell_type": "markdown",
   "metadata": {}
  },
  {
   "source": [
    "# Another Example: Multiasset Trader"
   ],
   "cell_type": "markdown",
   "metadata": {}
  },
  {
   "cell_type": "code",
   "execution_count": 8,
   "metadata": {},
   "outputs": [
    {
     "output_type": "stream",
     "name": "stdout",
     "text": [
      "<__main__.MultiAssetTrader object at 0x000002012D1A2088>\n"
     ]
    }
   ],
   "source": [
    "import mt5se as se\n",
    "\n",
    "class MultiAssetTrader(se.Trader):\n",
    "    def trade(self,bts,dbars):\n",
    "        assets=dbars.keys()\n",
    "        orders=[]\n",
    "        for asset in assets:\n",
    "            bars=dbars[asset]\n",
    "            curr_shares=se.backtest.get_shares(bts,asset)\n",
    "            money=se.backtest.get_balance(bts)/len(assets) # divide o saldo em dinheiro igualmente entre os ativos\n",
    "            # number of shares that you can buy of asset \n",
    "            free_shares=se.backtest.get_affor_shares(bts,dbars,asset,money)\n",
    "            rsi=se.tech.rsi(bars)\n",
    "            if rsi>=70 and free_shares>0: \n",
    "                order=se.buyOrder(asset,free_shares)\n",
    "            elif  rsi<70 and curr_shares>0:\n",
    "                order=se.sellOrder(asset,curr_shares)\n",
    "            else:\n",
    "                order=None\n",
    "            if order!=None:\n",
    "                orders.append(order)\n",
    "        return orders  \n",
    "\n",
    "\n",
    "trader=MultiAssetTrader() # also available in se.sampleTraders.MultiAssetTrader()\n",
    "print(trader)\n",
    " "
   ]
  },
  {
   "source": [
    "## Setuping Backtest for Multiple Assets"
   ],
   "cell_type": "markdown",
   "metadata": {}
  },
  {
   "cell_type": "code",
   "execution_count": 9,
   "metadata": {},
   "outputs": [
    {
     "output_type": "stream",
     "name": "stdout",
     "text": [
      "Backtest Setup is Ok!\n"
     ]
    }
   ],
   "source": [
    "\n",
    "# sets Backtest options \n",
    "prestart=se.date(2020,5,4)\n",
    "start=se.date(2020,5,6)\n",
    "end=se.date(2020,6,21)\n",
    "capital=10000000\n",
    "results_file='data_equity_file.csv'\n",
    "verbose=False \n",
    "assets=[\n",
    "'AAL', #\tAmerican Airlines Group, Inc.\t\n",
    "'GOOG', #\t\tApple Inc.\t\t\n",
    "'UAL', #\t\tUnited Airlines Holdings, Inc.\t\n",
    "'AMD',  #\t\tAdvanced Micro Devices, Inc.\t\n",
    "'MSFT' #\t\tMICROSOFT\n",
    "]\n",
    "# Use True if you want debug information for your Trader \n",
    "#sets the backtest setup\n",
    "period=se.DAILY \n",
    "\n",
    "bts=se.backtest.set(assets,prestart,start,end,period,capital,results_file,verbose)\n",
    "if se.backtest.checkBTS(bts): # check if the backtest setup is ok!\n",
    "    print('Backtest Setup is Ok!')\n",
    "else:\n",
    "    print('Backtest Setup is NOT Ok!')"
   ]
  },
  {
   "source": [
    "## Run and evaluate the backtest"
   ],
   "cell_type": "markdown",
   "metadata": {}
  },
  {
   "cell_type": "code",
   "execution_count": 10,
   "metadata": {},
   "outputs": [
    {
     "output_type": "stream",
     "name": "stdout",
     "text": [
      "End of backtest with  31  bars,  saving equity file in  data_equity_file.csv\n",
      "\n",
      " -----------------------   Backtest Report  ------------------------------- \n",
      "\n",
      "Total Return (%)=3.64 in 30 bars \n",
      "Average Bar Return (%)=0.18  \n",
      "Std Deviation of returns (%) =3.6232\n",
      "\n",
      " ----------------------        End of Report     -------------------------------- \n",
      "\n"
     ]
    }
   ],
   "source": [
    "se.connect()\n",
    "\n",
    "# Running the backtest\n",
    "df= se.backtest.run(trader,bts)   \n",
    "# run calls the Trader. setup and trade (once for each bar)\n",
    "\n",
    "# evaluates the backtest results\n",
    "se.backtest.evaluate(df)"
   ]
  },
  {
   "source": [
    "## Next Deploying Autonomous Trader powered by mt5se\n",
    "\n",
    "### You have seen how to:\n",
    "     install and import mt5se and MetaTrader5\n",
    "     get financial data\n",
    "     create direct control trading robots\n",
    "     create [Simple] Trader classes based on inversion of control\n",
    "     backtest Autonomous Traders\n",
    "### Next, We are going to show how to:\n",
    "\n",
    "        deploy autonomous trader to run on simulated or real Stock Exchange accounts\n",
    "        create Autonomous Traders based on Artifical Intelligence and Machine Learning \n",
    "\n",
    "    "
   ],
   "cell_type": "markdown",
   "metadata": {}
  }
 ]
}