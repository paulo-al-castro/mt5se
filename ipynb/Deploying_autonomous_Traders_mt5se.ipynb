{
 "metadata": {
  "language_info": {
   "codemirror_mode": {
    "name": "ipython",
    "version": 3
   },
   "file_extension": ".py",
   "mimetype": "text/x-python",
   "name": "python",
   "nbconvert_exporter": "python",
   "pygments_lexer": "ipython3",
   "version": "3.7.6"
  },
  "orig_nbformat": 2,
  "kernelspec": {
   "name": "python376jvsc74a57bd0e746eafcc9c3755c618fd70b7289e2c77c6dfaa86036ed9f41128bb78d1ac1c4",
   "display_name": "Python 3.7.6 64-bit (conda)"
  },
  "metadata": {
   "interpreter": {
    "hash": "e746eafcc9c3755c618fd70b7289e2c77c6dfaa86036ed9f41128bb78d1ac1c4"
   }
  }
 },
 "nbformat": 4,
 "nbformat_minor": 2,
 "cells": [
  {
   "source": [
    "# Building, backtesting and deploying Autonomous Trader using mt5se\n",
    "### For an introduction to mt5se, see: https://paulo-al-castro.github.io/mt5se/"
   ],
   "cell_type": "markdown",
   "metadata": {}
  },
  {
   "cell_type": "code",
   "execution_count": 1,
   "metadata": {},
   "outputs": [
    {
     "output_type": "stream",
     "name": "stdout",
     "text": [
      "Ok!! It is connected to se exchange!!\n"
     ]
    }
   ],
   "source": [
    "import mt5se as se\n",
    "import pandas as pd\n",
    "connected=se.connect()\n",
    "if connected:\n",
    "    print('Ok!! It is connected to se exchange!!')\n",
    "else:\n",
    "    print('Something went wrong! It is NOT connected to se!!')\n",
    "\n"
   ]
  },
  {
   "source": [
    "## Let's create a Simple Algorithmic Trader "
   ],
   "cell_type": "markdown",
   "metadata": {}
  },
  {
   "cell_type": "code",
   "execution_count": 2,
   "metadata": {},
   "outputs": [
    {
     "output_type": "stream",
     "name": "stdout",
     "text": [
      "<__main__.MultiAssetTrader object at 0x0000017E1C5A1EC8>\n"
     ]
    }
   ],
   "source": [
    "import mt5se as se\n",
    "\n",
    "class MultiAssetTrader(se.Trader):\n",
    "    def trade(self,dbars):\n",
    "        assets=dbars.keys()\n",
    "        orders=[]\n",
    "        for asset in assets:\n",
    "            bars=dbars[asset]\n",
    "            curr_shares=se.get_shares(asset)\n",
    "            money=se.get_balance()/len(assets) # divide o saldo em dinheiro igualmente entre os ativos\n",
    "            # number of shares that you can buy of asset \n",
    "            price=se.get_last(bars)\n",
    "            free_shares=se.get_affor_shares(asset,price,money)\n",
    "            rsi=se.tech.rsi(bars)\n",
    "            if rsi>=70 and free_shares>0: \n",
    "                order=se.buyOrder(asset,free_shares)\n",
    "            elif  rsi<70 and curr_shares>0:\n",
    "                order=se.sellOrder(asset,curr_shares)\n",
    "            else:\n",
    "                order=None\n",
    "            if order!=None:\n",
    "                orders.append(order)\n",
    "        return orders  \n",
    "\n",
    "\n",
    "trader=MultiAssetTrader() # also available in se.sampleTraders.MultiAssetTrader()\n",
    "print(trader)\n",
    " "
   ]
  },
  {
   "source": [
    "## Setup and check a backtest!"
   ],
   "cell_type": "markdown",
   "metadata": {}
  },
  {
   "cell_type": "code",
   "execution_count": 3,
   "metadata": {},
   "outputs": [
    {
     "output_type": "stream",
     "name": "stdout",
     "text": [
      "Backtest Setup is Ok!\n"
     ]
    }
   ],
   "source": [
    "# sets Backtest options \n",
    "prestart=se.date(2018,12,10)\n",
    "start=se.date(2019,1,10)\n",
    "end=se.date(2019,2,27)\n",
    "capital=1000000\n",
    "results_file='data_equity_file.csv'\n",
    "verbose=False \n",
    "assets=['GOOG','AAPL']\n",
    "# Use True if you want debug information for your Trader \n",
    "#sets the backtest setup\n",
    "period=se.DAILY \n",
    " # it may be se.INTRADAY (one minute interval)\n",
    "bts=se.backtest.set(assets,prestart,start,end,period,capital,results_file,verbose)\n",
    "if se.backtest.checkBTS(bts): # check if the backtest setup is ok!\n",
    "    print('Backtest Setup is Ok!')\n",
    "else:\n",
    "    print('Backtest Setup is NOT Ok!')\n",
    "\n"
   ]
  },
  {
   "source": [
    "## Run the Backtest"
   ],
   "cell_type": "markdown",
   "metadata": {}
  },
  {
   "cell_type": "code",
   "execution_count": 4,
   "metadata": {
    "tags": [
     "outputPrepend"
    ]
   },
   "outputs": [
    {
     "output_type": "stream",
     "name": "stdout",
     "text": [
      "'prestart': datetime.datetime(2018, 12, 10, 0, 0), 'start': datetime.datetime(2019, 1, 10, 0, 0), 'end': datetime.datetime(2019, 2, 27, 0, 0), 'type': 1, 'file': 'data_equity_file.csv', 'assets': ['GOOG', 'AAPL'], 'capital': 1000000.0, 'shares_GOOG': 0.0, 'shares_AAPL': 0.0, 'curr': 4}\n",
      "Esta em backtest. bts= {'verbose': False, 'prestart': datetime.datetime(2018, 12, 10, 0, 0), 'start': datetime.datetime(2019, 1, 10, 0, 0), 'end': datetime.datetime(2019, 2, 27, 0, 0), 'type': 1, 'file': 'data_equity_file.csv', 'assets': ['GOOG', 'AAPL'], 'capital': 1000000.0, 'shares_GOOG': 0.0, 'shares_AAPL': 0.0, 'curr': 5}\n",
      "Esta em backtest. bts= {'verbose': False, 'prestart': datetime.datetime(2018, 12, 10, 0, 0), 'start': datetime.datetime(2019, 1, 10, 0, 0), 'end': datetime.datetime(2019, 2, 27, 0, 0), 'type': 1, 'file': 'data_equity_file.csv', 'assets': ['GOOG', 'AAPL'], 'capital': 1000000.0, 'shares_GOOG': 0.0, 'shares_AAPL': 0.0, 'curr': 5}\n",
      "Esta em backtest. bts= {'verbose': False, 'prestart': datetime.datetime(2018, 12, 10, 0, 0), 'start': datetime.datetime(2019, 1, 10, 0, 0), 'end': datetime.datetime(2019, 2, 27, 0, 0), 'type': 1, 'file': 'data_equity_file.csv', 'assets': ['GOOG', 'AAPL'], 'capital': 1000000.0, 'shares_GOOG': 0.0, 'shares_AAPL': 0.0, 'curr': 6}\n",
      "Esta em backtest. bts= {'verbose': False, 'prestart': datetime.datetime(2018, 12, 10, 0, 0), 'start': datetime.datetime(2019, 1, 10, 0, 0), 'end': datetime.datetime(2019, 2, 27, 0, 0), 'type': 1, 'file': 'data_equity_file.csv', 'assets': ['GOOG', 'AAPL'], 'capital': 1000000.0, 'shares_GOOG': 0.0, 'shares_AAPL': 0.0, 'curr': 6}\n",
      "Esta em backtest. bts= {'verbose': False, 'prestart': datetime.datetime(2018, 12, 10, 0, 0), 'start': datetime.datetime(2019, 1, 10, 0, 0), 'end': datetime.datetime(2019, 2, 27, 0, 0), 'type': 1, 'file': 'data_equity_file.csv', 'assets': ['GOOG', 'AAPL'], 'capital': 1000000.0, 'shares_GOOG': 0.0, 'shares_AAPL': 0.0, 'curr': 7}\n",
      "Esta em backtest. bts= {'verbose': False, 'prestart': datetime.datetime(2018, 12, 10, 0, 0), 'start': datetime.datetime(2019, 1, 10, 0, 0), 'end': datetime.datetime(2019, 2, 27, 0, 0), 'type': 1, 'file': 'data_equity_file.csv', 'assets': ['GOOG', 'AAPL'], 'capital': 1000000.0, 'shares_GOOG': 0.0, 'shares_AAPL': 0.0, 'curr': 7}\n",
      "Esta em backtest. bts= {'verbose': False, 'prestart': datetime.datetime(2018, 12, 10, 0, 0), 'start': datetime.datetime(2019, 1, 10, 0, 0), 'end': datetime.datetime(2019, 2, 27, 0, 0), 'type': 1, 'file': 'data_equity_file.csv', 'assets': ['GOOG', 'AAPL'], 'capital': 1000000.0, 'shares_GOOG': 0.0, 'shares_AAPL': 0.0, 'curr': 8}\n",
      "Esta em backtest. bts= {'verbose': False, 'prestart': datetime.datetime(2018, 12, 10, 0, 0), 'start': datetime.datetime(2019, 1, 10, 0, 0), 'end': datetime.datetime(2019, 2, 27, 0, 0), 'type': 1, 'file': 'data_equity_file.csv', 'assets': ['GOOG', 'AAPL'], 'capital': 1000000.0, 'shares_GOOG': 0.0, 'shares_AAPL': 0.0, 'curr': 8}\n",
      "Esta em backtest. bts= {'verbose': False, 'prestart': datetime.datetime(2018, 12, 10, 0, 0), 'start': datetime.datetime(2019, 1, 10, 0, 0), 'end': datetime.datetime(2019, 2, 27, 0, 0), 'type': 1, 'file': 'data_equity_file.csv', 'assets': ['GOOG', 'AAPL'], 'capital': 1000000.0, 'shares_GOOG': 0.0, 'shares_AAPL': 0.0, 'curr': 9}\n",
      "Esta em backtest. bts= {'verbose': False, 'prestart': datetime.datetime(2018, 12, 10, 0, 0), 'start': datetime.datetime(2019, 1, 10, 0, 0), 'end': datetime.datetime(2019, 2, 27, 0, 0), 'type': 1, 'file': 'data_equity_file.csv', 'assets': ['GOOG', 'AAPL'], 'capital': 1000000.0, 'shares_GOOG': 0.0, 'shares_AAPL': 0.0, 'curr': 9}\n",
      "Esta em backtest. bts= {'verbose': False, 'prestart': datetime.datetime(2018, 12, 10, 0, 0), 'start': datetime.datetime(2019, 1, 10, 0, 0), 'end': datetime.datetime(2019, 2, 27, 0, 0), 'type': 1, 'file': 'data_equity_file.csv', 'assets': ['GOOG', 'AAPL'], 'capital': 490970.0, 'shares_GOOG': 467.0, 'shares_AAPL': 0.0, 'curr': 10}\n",
      "Esta em backtest. bts= {'verbose': False, 'prestart': datetime.datetime(2018, 12, 10, 0, 0), 'start': datetime.datetime(2019, 1, 10, 0, 0), 'end': datetime.datetime(2019, 2, 27, 0, 0), 'type': 1, 'file': 'data_equity_file.csv', 'assets': ['GOOG', 'AAPL'], 'capital': 490970.0, 'shares_GOOG': 467.0, 'shares_AAPL': 0.0, 'curr': 10}\n",
      "Esta em backtest. bts= {'verbose': False, 'prestart': datetime.datetime(2018, 12, 10, 0, 0), 'start': datetime.datetime(2019, 1, 10, 0, 0), 'end': datetime.datetime(2019, 2, 27, 0, 0), 'type': 1, 'file': 'data_equity_file.csv', 'assets': ['GOOG', 'AAPL'], 'capital': 250670.0, 'shares_GOOG': 692.0, 'shares_AAPL': 0.0, 'curr': 11}\n",
      "Esta em backtest. bts= {'verbose': False, 'prestart': datetime.datetime(2018, 12, 10, 0, 0), 'start': datetime.datetime(2019, 1, 10, 0, 0), 'end': datetime.datetime(2019, 2, 27, 0, 0), 'type': 1, 'file': 'data_equity_file.csv', 'assets': ['GOOG', 'AAPL'], 'capital': 250670.0, 'shares_GOOG': 692.0, 'shares_AAPL': 0.0, 'curr': 11}\n",
      "Esta em backtest. bts= {'verbose': False, 'prestart': datetime.datetime(2018, 12, 10, 0, 0), 'start': datetime.datetime(2019, 1, 10, 0, 0), 'end': datetime.datetime(2019, 2, 27, 0, 0), 'type': 1, 'file': 'data_equity_file.csv', 'assets': ['GOOG', 'AAPL'], 'capital': 988342.0, 'shares_GOOG': 0.0, 'shares_AAPL': 0.0, 'curr': 12}\n",
      "Esta em backtest. bts= {'verbose': False, 'prestart': datetime.datetime(2018, 12, 10, 0, 0), 'start': datetime.datetime(2019, 1, 10, 0, 0), 'end': datetime.datetime(2019, 2, 27, 0, 0), 'type': 1, 'file': 'data_equity_file.csv', 'assets': ['GOOG', 'AAPL'], 'capital': 988342.0, 'shares_GOOG': 0.0, 'shares_AAPL': 0.0, 'curr': 12}\n",
      "Esta em backtest. bts= {'verbose': False, 'prestart': datetime.datetime(2018, 12, 10, 0, 0), 'start': datetime.datetime(2019, 1, 10, 0, 0), 'end': datetime.datetime(2019, 2, 27, 0, 0), 'type': 1, 'file': 'data_equity_file.csv', 'assets': ['GOOG', 'AAPL'], 'capital': 988342.0, 'shares_GOOG': 0.0, 'shares_AAPL': 0.0, 'curr': 13}\n",
      "Esta em backtest. bts= {'verbose': False, 'prestart': datetime.datetime(2018, 12, 10, 0, 0), 'start': datetime.datetime(2019, 1, 10, 0, 0), 'end': datetime.datetime(2019, 2, 27, 0, 0), 'type': 1, 'file': 'data_equity_file.csv', 'assets': ['GOOG', 'AAPL'], 'capital': 988342.0, 'shares_GOOG': 0.0, 'shares_AAPL': 0.0, 'curr': 13}\n",
      "Esta em backtest. bts= {'verbose': False, 'prestart': datetime.datetime(2018, 12, 10, 0, 0), 'start': datetime.datetime(2019, 1, 10, 0, 0), 'end': datetime.datetime(2019, 2, 27, 0, 0), 'type': 1, 'file': 'data_equity_file.csv', 'assets': ['GOOG', 'AAPL'], 'capital': 988342.0, 'shares_GOOG': 0.0, 'shares_AAPL': 0.0, 'curr': 14}\n",
      "Esta em backtest. bts= {'verbose': False, 'prestart': datetime.datetime(2018, 12, 10, 0, 0), 'start': datetime.datetime(2019, 1, 10, 0, 0), 'end': datetime.datetime(2019, 2, 27, 0, 0), 'type': 1, 'file': 'data_equity_file.csv', 'assets': ['GOOG', 'AAPL'], 'capital': 988342.0, 'shares_GOOG': 0.0, 'shares_AAPL': 0.0, 'curr': 14}\n",
      "Esta em backtest. bts= {'verbose': False, 'prestart': datetime.datetime(2018, 12, 10, 0, 0), 'start': datetime.datetime(2019, 1, 10, 0, 0), 'end': datetime.datetime(2019, 2, 27, 0, 0), 'type': 1, 'file': 'data_equity_file.csv', 'assets': ['GOOG', 'AAPL'], 'capital': 496027.24000000005, 'shares_GOOG': 443.0, 'shares_AAPL': 0.0, 'curr': 15}\n",
      "Esta em backtest. bts= {'verbose': False, 'prestart': datetime.datetime(2018, 12, 10, 0, 0), 'start': datetime.datetime(2019, 1, 10, 0, 0), 'end': datetime.datetime(2019, 2, 27, 0, 0), 'type': 1, 'file': 'data_equity_file.csv', 'assets': ['GOOG', 'AAPL'], 'capital': 496027.24000000005, 'shares_GOOG': 443.0, 'shares_AAPL': 0.0, 'curr': 15}\n",
      "Esta em backtest. bts= {'verbose': False, 'prestart': datetime.datetime(2018, 12, 10, 0, 0), 'start': datetime.datetime(2019, 1, 10, 0, 0), 'end': datetime.datetime(2019, 2, 27, 0, 0), 'type': 1, 'file': 'data_equity_file.csv', 'assets': ['GOOG', 'AAPL'], 'capital': -5393.28999999995, 'shares_GOOG': 666.0, 'shares_AAPL': 1487.0, 'curr': 16}\n",
      "Esta em backtest. bts= {'verbose': False, 'prestart': datetime.datetime(2018, 12, 10, 0, 0), 'start': datetime.datetime(2019, 1, 10, 0, 0), 'end': datetime.datetime(2019, 2, 27, 0, 0), 'type': 1, 'file': 'data_equity_file.csv', 'assets': ['GOOG', 'AAPL'], 'capital': -5393.28999999995, 'shares_GOOG': 666.0, 'shares_AAPL': 1487.0, 'curr': 16}\n",
      "Esta em backtest. bts= {'verbose': False, 'prestart': datetime.datetime(2018, 12, 10, 0, 0), 'start': datetime.datetime(2019, 1, 10, 0, 0), 'end': datetime.datetime(2019, 2, 27, 0, 0), 'type': 1, 'file': 'data_equity_file.csv', 'assets': ['GOOG', 'AAPL'], 'capital': -5393.28999999995, 'shares_GOOG': 666.0, 'shares_AAPL': 1487.0, 'curr': 17}\n",
      "Esta em backtest. bts= {'verbose': False, 'prestart': datetime.datetime(2018, 12, 10, 0, 0), 'start': datetime.datetime(2019, 1, 10, 0, 0), 'end': datetime.datetime(2019, 2, 27, 0, 0), 'type': 1, 'file': 'data_equity_file.csv', 'assets': ['GOOG', 'AAPL'], 'capital': -5393.28999999995, 'shares_GOOG': 666.0, 'shares_AAPL': 1487.0, 'curr': 17}\n",
      "Esta em backtest. bts= {'verbose': False, 'prestart': datetime.datetime(2018, 12, 10, 0, 0), 'start': datetime.datetime(2019, 1, 10, 0, 0), 'end': datetime.datetime(2019, 2, 27, 0, 0), 'type': 1, 'file': 'data_equity_file.csv', 'assets': ['GOOG', 'AAPL'], 'capital': -5393.28999999995, 'shares_GOOG': 666.0, 'shares_AAPL': 1487.0, 'curr': 18}\n",
      "Esta em backtest. bts= {'verbose': False, 'prestart': datetime.datetime(2018, 12, 10, 0, 0), 'start': datetime.datetime(2019, 1, 10, 0, 0), 'end': datetime.datetime(2019, 2, 27, 0, 0), 'type': 1, 'file': 'data_equity_file.csv', 'assets': ['GOOG', 'AAPL'], 'capital': -5393.28999999995, 'shares_GOOG': 666.0, 'shares_AAPL': 1487.0, 'curr': 18}\n",
      "Esta em backtest. bts= {'verbose': False, 'prestart': datetime.datetime(2018, 12, 10, 0, 0), 'start': datetime.datetime(2019, 1, 10, 0, 0), 'end': datetime.datetime(2019, 2, 27, 0, 0), 'type': 1, 'file': 'data_equity_file.csv', 'assets': ['GOOG', 'AAPL'], 'capital': -5393.28999999995, 'shares_GOOG': 666.0, 'shares_AAPL': 1487.0, 'curr': 19}\n",
      "Esta em backtest. bts= {'verbose': False, 'prestart': datetime.datetime(2018, 12, 10, 0, 0), 'start': datetime.datetime(2019, 1, 10, 0, 0), 'end': datetime.datetime(2019, 2, 27, 0, 0), 'type': 1, 'file': 'data_equity_file.csv', 'assets': ['GOOG', 'AAPL'], 'capital': -5393.28999999995, 'shares_GOOG': 666.0, 'shares_AAPL': 1487.0, 'curr': 19}\n",
      "Esta em backtest. bts= {'verbose': False, 'prestart': datetime.datetime(2018, 12, 10, 0, 0), 'start': datetime.datetime(2019, 1, 10, 0, 0), 'end': datetime.datetime(2019, 2, 27, 0, 0), 'type': 1, 'file': 'data_equity_file.csv', 'assets': ['GOOG', 'AAPL'], 'capital': 247694.11000000004, 'shares_GOOG': 666.0, 'shares_AAPL': 0.0, 'curr': 20}\n",
      "Esta em backtest. bts= {'verbose': False, 'prestart': datetime.datetime(2018, 12, 10, 0, 0), 'start': datetime.datetime(2019, 1, 10, 0, 0), 'end': datetime.datetime(2019, 2, 27, 0, 0), 'type': 1, 'file': 'data_equity_file.csv', 'assets': ['GOOG', 'AAPL'], 'capital': 247694.11000000004, 'shares_GOOG': 666.0, 'shares_AAPL': 0.0, 'curr': 20}\n",
      "Esta em backtest. bts= {'verbose': False, 'prestart': datetime.datetime(2018, 12, 10, 0, 0), 'start': datetime.datetime(2019, 1, 10, 0, 0), 'end': datetime.datetime(2019, 2, 27, 0, 0), 'type': 1, 'file': 'data_equity_file.csv', 'assets': ['GOOG', 'AAPL'], 'capital': 123957.98000000004, 'shares_GOOG': 779.0, 'shares_AAPL': 0.0, 'curr': 21}\n",
      "Esta em backtest. bts= {'verbose': False, 'prestart': datetime.datetime(2018, 12, 10, 0, 0), 'start': datetime.datetime(2019, 1, 10, 0, 0), 'end': datetime.datetime(2019, 2, 27, 0, 0), 'type': 1, 'file': 'data_equity_file.csv', 'assets': ['GOOG', 'AAPL'], 'capital': 123957.98000000004, 'shares_GOOG': 779.0, 'shares_AAPL': 0.0, 'curr': 21}\n",
      "Esta em backtest. bts= {'verbose': False, 'prestart': datetime.datetime(2018, 12, 10, 0, 0), 'start': datetime.datetime(2019, 1, 10, 0, 0), 'end': datetime.datetime(2019, 2, 27, 0, 0), 'type': 1, 'file': 'data_equity_file.csv', 'assets': ['GOOG', 'AAPL'], 'capital': 61237.98000000004, 'shares_GOOG': 835.0, 'shares_AAPL': 0.0, 'curr': 22}\n",
      "Esta em backtest. bts= {'verbose': False, 'prestart': datetime.datetime(2018, 12, 10, 0, 0), 'start': datetime.datetime(2019, 1, 10, 0, 0), 'end': datetime.datetime(2019, 2, 27, 0, 0), 'type': 1, 'file': 'data_equity_file.csv', 'assets': ['GOOG', 'AAPL'], 'capital': 61237.98000000004, 'shares_GOOG': 835.0, 'shares_AAPL': 0.0, 'curr': 22}\n",
      "Esta em backtest. bts= {'verbose': False, 'prestart': datetime.datetime(2018, 12, 10, 0, 0), 'start': datetime.datetime(2019, 1, 10, 0, 0), 'end': datetime.datetime(2019, 2, 27, 0, 0), 'type': 1, 'file': 'data_equity_file.csv', 'assets': ['GOOG', 'AAPL'], 'capital': 31000.140000000036, 'shares_GOOG': 862.0, 'shares_AAPL': 0.0, 'curr': 23}\n",
      "Esta em backtest. bts= {'verbose': False, 'prestart': datetime.datetime(2018, 12, 10, 0, 0), 'start': datetime.datetime(2019, 1, 10, 0, 0), 'end': datetime.datetime(2019, 2, 27, 0, 0), 'type': 1, 'file': 'data_equity_file.csv', 'assets': ['GOOG', 'AAPL'], 'capital': 31000.140000000036, 'shares_GOOG': 862.0, 'shares_AAPL': 0.0, 'curr': 23}\n",
      "Esta em backtest. bts= {'verbose': False, 'prestart': datetime.datetime(2018, 12, 10, 0, 0), 'start': datetime.datetime(2019, 1, 10, 0, 0), 'end': datetime.datetime(2019, 2, 27, 0, 0), 'type': 1, 'file': 'data_equity_file.csv', 'assets': ['GOOG', 'AAPL'], 'capital': 997302.14, 'shares_GOOG': 0.0, 'shares_AAPL': 0.0, 'curr': 24}\n",
      "Esta em backtest. bts= {'verbose': False, 'prestart': datetime.datetime(2018, 12, 10, 0, 0), 'start': datetime.datetime(2019, 1, 10, 0, 0), 'end': datetime.datetime(2019, 2, 27, 0, 0), 'type': 1, 'file': 'data_equity_file.csv', 'assets': ['GOOG', 'AAPL'], 'capital': 997302.14, 'shares_GOOG': 0.0, 'shares_AAPL': 0.0, 'curr': 24}\n",
      "Esta em backtest. bts= {'verbose': False, 'prestart': datetime.datetime(2018, 12, 10, 0, 0), 'start': datetime.datetime(2019, 1, 10, 0, 0), 'end': datetime.datetime(2019, 2, 27, 0, 0), 'type': 1, 'file': 'data_equity_file.csv', 'assets': ['GOOG', 'AAPL'], 'capital': 496384.94, 'shares_GOOG': 0.0, 'shares_AAPL': 2940.0, 'curr': 25}\n",
      "Esta em backtest. bts= {'verbose': False, 'prestart': datetime.datetime(2018, 12, 10, 0, 0), 'start': datetime.datetime(2019, 1, 10, 0, 0), 'end': datetime.datetime(2019, 2, 27, 0, 0), 'type': 1, 'file': 'data_equity_file.csv', 'assets': ['GOOG', 'AAPL'], 'capital': 496384.94, 'shares_GOOG': 0.0, 'shares_AAPL': 2940.0, 'curr': 25}\n",
      "Esta em backtest. bts= {'verbose': False, 'prestart': datetime.datetime(2018, 12, 10, 0, 0), 'start': datetime.datetime(2019, 1, 10, 0, 0), 'end': datetime.datetime(2019, 2, 27, 0, 0), 'type': 1, 'file': 'data_equity_file.csv', 'assets': ['GOOG', 'AAPL'], 'capital': 247612.77999999997, 'shares_GOOG': 0.0, 'shares_AAPL': 4396.0, 'curr': 26}\n",
      "Esta em backtest. bts= {'verbose': False, 'prestart': datetime.datetime(2018, 12, 10, 0, 0), 'start': datetime.datetime(2019, 1, 10, 0, 0), 'end': datetime.datetime(2019, 2, 27, 0, 0), 'type': 1, 'file': 'data_equity_file.csv', 'assets': ['GOOG', 'AAPL'], 'capital': 247612.77999999997, 'shares_GOOG': 0.0, 'shares_AAPL': 4396.0, 'curr': 26}\n",
      "Esta em backtest. bts= {'verbose': False, 'prestart': datetime.datetime(2018, 12, 10, 0, 0), 'start': datetime.datetime(2019, 1, 10, 0, 0), 'end': datetime.datetime(2019, 2, 27, 0, 0), 'type': 1, 'file': 'data_equity_file.csv', 'assets': ['GOOG', 'AAPL'], 'capital': 123084.77999999997, 'shares_GOOG': 0.0, 'shares_AAPL': 5120.0, 'curr': 27}\n",
      "Esta em backtest. bts= {'verbose': False, 'prestart': datetime.datetime(2018, 12, 10, 0, 0), 'start': datetime.datetime(2019, 1, 10, 0, 0), 'end': datetime.datetime(2019, 2, 27, 0, 0), 'type': 1, 'file': 'data_equity_file.csv', 'assets': ['GOOG', 'AAPL'], 'capital': 123084.77999999997, 'shares_GOOG': 0.0, 'shares_AAPL': 5120.0, 'curr': 27}\n",
      "Esta em backtest. bts= {'verbose': False, 'prestart': datetime.datetime(2018, 12, 10, 0, 0), 'start': datetime.datetime(2019, 1, 10, 0, 0), 'end': datetime.datetime(2019, 2, 27, 0, 0), 'type': 1, 'file': 'data_equity_file.csv', 'assets': ['GOOG', 'AAPL'], 'capital': 62037.77999999997, 'shares_GOOG': 0.0, 'shares_AAPL': 5477.0, 'curr': 28}\n",
      "Esta em backtest. bts= {'verbose': False, 'prestart': datetime.datetime(2018, 12, 10, 0, 0), 'start': datetime.datetime(2019, 1, 10, 0, 0), 'end': datetime.datetime(2019, 2, 27, 0, 0), 'type': 1, 'file': 'data_equity_file.csv', 'assets': ['GOOG', 'AAPL'], 'capital': 62037.77999999997, 'shares_GOOG': 0.0, 'shares_AAPL': 5477.0, 'curr': 28}\n",
      "Esta em backtest. bts= {'verbose': False, 'prestart': datetime.datetime(2018, 12, 10, 0, 0), 'start': datetime.datetime(2019, 1, 10, 0, 0), 'end': datetime.datetime(2019, 2, 27, 0, 0), 'type': 1, 'file': 'data_equity_file.csv', 'assets': ['GOOG', 'AAPL'], 'capital': 30771.839999999967, 'shares_GOOG': 0.0, 'shares_AAPL': 5658.0, 'curr': 29}\n",
      "Esta em backtest. bts= {'verbose': False, 'prestart': datetime.datetime(2018, 12, 10, 0, 0), 'start': datetime.datetime(2019, 1, 10, 0, 0), 'end': datetime.datetime(2019, 2, 27, 0, 0), 'type': 1, 'file': 'data_equity_file.csv', 'assets': ['GOOG', 'AAPL'], 'capital': 30771.839999999967, 'shares_GOOG': 0.0, 'shares_AAPL': 5658.0, 'curr': 29}\n",
      "Esta em backtest. bts= {'verbose': False, 'prestart': datetime.datetime(2018, 12, 10, 0, 0), 'start': datetime.datetime(2019, 1, 10, 0, 0), 'end': datetime.datetime(2019, 2, 27, 0, 0), 'type': 1, 'file': 'data_equity_file.csv', 'assets': ['GOOG', 'AAPL'], 'capital': 15286.729999999967, 'shares_GOOG': 0.0, 'shares_AAPL': 5747.0, 'curr': 30}\n",
      "Esta em backtest. bts= {'verbose': False, 'prestart': datetime.datetime(2018, 12, 10, 0, 0), 'start': datetime.datetime(2019, 1, 10, 0, 0), 'end': datetime.datetime(2019, 2, 27, 0, 0), 'type': 1, 'file': 'data_equity_file.csv', 'assets': ['GOOG', 'AAPL'], 'capital': 15286.729999999967, 'shares_GOOG': 0.0, 'shares_AAPL': 5747.0, 'curr': 30}\n",
      "Esta em backtest. bts= {'verbose': False, 'prestart': datetime.datetime(2018, 12, 10, 0, 0), 'start': datetime.datetime(2019, 1, 10, 0, 0), 'end': datetime.datetime(2019, 2, 27, 0, 0), 'type': 1, 'file': 'data_equity_file.csv', 'assets': ['GOOG', 'AAPL'], 'capital': 7803.439999999967, 'shares_GOOG': 0.0, 'shares_AAPL': 5790.0, 'curr': 31}\n",
      "Esta em backtest. bts= {'verbose': False, 'prestart': datetime.datetime(2018, 12, 10, 0, 0), 'start': datetime.datetime(2019, 1, 10, 0, 0), 'end': datetime.datetime(2019, 2, 27, 0, 0), 'type': 1, 'file': 'data_equity_file.csv', 'assets': ['GOOG', 'AAPL'], 'capital': 7803.439999999967, 'shares_GOOG': 0.0, 'shares_AAPL': 5790.0, 'curr': 31}\n",
      "End of backtest with  32  bars,  saving equity file in  data_equity_file.csv\n",
      "         date     balance      equity  load\n",
      "0  2019-01-11  1000000.00  1000000.00   0.0\n",
      "1  2019-01-14  1000000.00  1000000.00   0.0\n",
      "2  2019-01-15  1000000.00  1000000.00   0.0\n",
      "3  2019-01-16  1000000.00  1000000.00   0.0\n",
      "4  2019-01-17  1000000.00  1000000.00   0.0\n",
      "5  2019-01-18  1000000.00  1000000.00   0.0\n",
      "6  2019-01-22  1000000.00  1000000.00   0.0\n",
      "7  2019-01-23  1000000.00  1000000.00   0.0\n",
      "8  2019-01-24  1000000.00  1000000.00   0.0\n",
      "9  2019-01-25   490970.00  1000000.00   0.0\n",
      "10 2019-01-28   250670.00   989726.00   0.0\n",
      "11 2019-01-29   988342.00   988342.00   0.0\n",
      "12 2019-01-30   988342.00   988342.00   0.0\n",
      "13 2019-01-31   988342.00   988342.00   0.0\n",
      "14 2019-02-01   496027.24   988342.00   0.0\n",
      "15 2019-02-04    -5393.29   986428.24   0.0\n",
      "16 2019-02-05    -5393.29  1015323.06   0.0\n",
      "17 2019-02-06    -5393.29   996180.84   0.0\n",
      "18 2019-02-07    -5393.29   980535.35   0.0\n",
      "19 2019-02-08   247694.11   977064.01   0.0\n",
      "20 2019-02-11   123957.98   976970.77   0.0\n",
      "21 2019-02-12    61237.98   996437.98   0.0\n",
      "22 2019-02-13    31000.14   996371.18   0.0\n",
      "23 2019-02-14   997302.14   997302.14   0.0\n",
      "24 2019-02-15   496384.94   997302.14   0.0\n",
      "25 2019-02-19   247612.78   998713.34   0.0\n",
      "26 2019-02-20   123084.78  1003724.78   0.0\n",
      "27 2019-02-21    62037.78   998604.78   0.0\n",
      "28 2019-02-22    30771.84  1008134.76   0.0\n",
      "29 2019-02-25    15286.73  1015207.26   0.0\n",
      "30 2019-02-26     7803.44  1015437.14   0.0\n",
      "31 2019-02-27     3954.76  1020706.04   0.0\n",
      "3954.759999999967\n"
     ]
    }
   ],
   "source": [
    "\n",
    "# Running the backtest\n",
    "df= se.backtest.run(trader,bts)   \n",
    "# run calls the Trader. setup and trade (once for each bar)\n",
    "\n",
    "#print the results\n",
    "print(df)\n",
    "print(bts['capital'])\n"
   ]
  },
  {
   "source": [
    "## Evaluate the Backtest result"
   ],
   "cell_type": "markdown",
   "metadata": {}
  },
  {
   "cell_type": "code",
   "execution_count": 5,
   "metadata": {},
   "outputs": [
    {
     "output_type": "stream",
     "name": "stdout",
     "text": [
      "\n -----------------------   Backtest Report  ------------------------------- \n\nTotal Return (%)=2.07 in 31 bars \nAverage Bar Return (%)=0.07  \nStd Deviation of returns (%) =0.8539\n\n ----------------------        End of Report     -------------------------------- \n\n"
     ]
    }
   ],
   "source": [
    "# evaluates the backtest results\n",
    "se.backtest.evaluate(df)\n"
   ]
  },
  {
   "source": [
    "## Deploying a Trader for operation on real (or simulated ) Accounts "
   ],
   "cell_type": "markdown",
   "metadata": {}
  },
  {
   "cell_type": "code",
   "execution_count": 2,
   "metadata": {},
   "outputs": [
    {
     "output_type": "stream",
     "name": "stdout",
     "text": [
      "<__main__.MultiAssetTrader object at 0x000001D3A13B1D88>\n"
     ]
    }
   ],
   "source": [
    "import mt5se as se\n",
    "\n",
    "class MultiAssetTrader(se.Trader):  # It is the same trader!!! There is no need to change it from backtest to live operation!!!!\n",
    "    def trade(self,dbars):\n",
    "        assets=dbars.keys()\n",
    "        orders=[]\n",
    "        for asset in assets:\n",
    "            bars=dbars[asset]\n",
    "            curr_shares=se.get_shares(asset)\n",
    "            money=se.get_balance()/len(assets) # divide o saldo em dinheiro igualmente entre os ativos\n",
    "            # number of shares that you can buy of asset \n",
    "            price=se.get_last(bars)\n",
    "            free_shares=se.get_affor_shares(asset,price,money)\n",
    "            rsi=se.tech.rsi(bars)\n",
    "            if rsi>=70 and free_shares>0: \n",
    "                order=se.buyOrder(asset,free_shares)\n",
    "            elif  rsi<70 and curr_shares>0:\n",
    "                order=se.sellOrder(asset,curr_shares)\n",
    "            else:\n",
    "                order=None\n",
    "            if order!=None:\n",
    "                orders.append(order)\n",
    "        return orders  \n",
    "\n",
    "\n",
    "trader=MultiAssetTrader() # also available in se.sampleTraders.MultiAssetTrader()\n",
    "print(trader)\n",
    " "
   ]
  },
  {
   "source": [
    "# Setup the operation!\n",
    "### Observe that there are some differences between setuping a backtest and a live operation, see below!"
   ],
   "cell_type": "markdown",
   "metadata": {}
  },
  {
   "cell_type": "code",
   "execution_count": 5,
   "metadata": {},
   "outputs": [
    {
     "output_type": "stream",
     "name": "stdout",
     "text": [
      "{'waitForOpen': True, 'verbose': False, 'delay': 15, 'mem': 10, 'end': datetime.datetime(2021, 4, 29, 14, 28, 36, 585299), 'type': 2, 'file': 'data_equity_file.csv', 'assets': ['GOOG', 'AAPL', 'TSLA'], 'capital': 100000.0}\n"
     ]
    }
   ],
   "source": [
    "\n",
    "    #account data\n",
    "login=None #'your account Number!' \n",
    "password=None # 'Guess what is it..'\n",
    "# if login and password are not defined (i.e. None), it will use the default account defined in Metatrader\n",
    "#trading data\n",
    "assets=['GOOG','AAPL','TSLA']\n",
    "endTime=se.now(minOffset=1)   # it will run for one minute!\n",
    "#endTime=se.now(hourOffset=1,minOffset=30) # the trader will run for 1:30h after started!\n",
    " \n",
    "capital=100000\n",
    "data_file='data_equity_file.csv'\n",
    "verbose=False\n",
    "timeFrame=se.INTRADAY\n",
    "delay=20 # seconds to wait between trade calls\n",
    "waitForOpen=True\n",
    "mem=10 \n",
    "# number of bars to take into account\n",
    "\n",
    "\n",
    "# define operation setup (ops)  (no se.backtest.set)\n",
    "ops=se.operations.set(assets,capital,endTime,mem,timeFrame,data_file,verbose,delay,waitForOpen)\n",
    "print(ops)\n"
   ]
  },
  {
   "source": [
    "## Connect to the Stock Exchange thorugh your Broker and execute trader through given Account\n"
   ],
   "cell_type": "markdown",
   "metadata": {}
  },
  {
   "cell_type": "code",
   "execution_count": 6,
   "metadata": {
    "tags": []
   },
   "outputs": [
    {
     "output_type": "error",
     "ename": "TypeError",
     "evalue": "'>' not supported between instances of 'NoneType' and 'int'",
     "traceback": [
      "\u001b[1;31m---------------------------------------------------------------------------\u001b[0m",
      "\u001b[1;31mTypeError\u001b[0m                                 Traceback (most recent call last)",
      "\u001b[1;32m<ipython-input-6-3901640bb694>\u001b[0m in \u001b[0;36m<module>\u001b[1;34m\u001b[0m\n\u001b[0;32m      3\u001b[0m \u001b[1;33m\u001b[0m\u001b[0m\n\u001b[0;32m      4\u001b[0m \u001b[1;31m#executes the trader, according setup\u001b[0m\u001b[1;33m\u001b[0m\u001b[1;33m\u001b[0m\u001b[1;33m\u001b[0m\u001b[0m\n\u001b[1;32m----> 5\u001b[1;33m \u001b[0mse\u001b[0m\u001b[1;33m.\u001b[0m\u001b[0moperations\u001b[0m\u001b[1;33m.\u001b[0m\u001b[0mrun\u001b[0m\u001b[1;33m(\u001b[0m\u001b[0mtrader\u001b[0m\u001b[1;33m,\u001b[0m\u001b[0mops\u001b[0m\u001b[1;33m)\u001b[0m\u001b[1;33m\u001b[0m\u001b[1;33m\u001b[0m\u001b[0m\n\u001b[0m",
      "\u001b[1;32md:\\anaconda3\\lib\\site-packages\\mt5se\\operations.py\u001b[0m in \u001b[0;36mrun\u001b[1;34m(trader, ops)\u001b[0m\n\u001b[0;32m    275\u001b[0m             \u001b[0mtime\u001b[0m\u001b[1;33m.\u001b[0m\u001b[0msleep\u001b[0m\u001b[1;33m(\u001b[0m\u001b[1;36m1\u001b[0m\u001b[1;33m)\u001b[0m\u001b[1;33m\u001b[0m\u001b[1;33m\u001b[0m\u001b[0m\n\u001b[0;32m    276\u001b[0m     \u001b[1;32mwhile\u001b[0m \u001b[1;32mnot\u001b[0m \u001b[0mendedOps\u001b[0m\u001b[1;33m(\u001b[0m\u001b[0mops\u001b[0m\u001b[1;33m)\u001b[0m\u001b[1;33m:\u001b[0m\u001b[1;33m\u001b[0m\u001b[1;33m\u001b[0m\u001b[0m\n\u001b[1;32m--> 277\u001b[1;33m         \u001b[0morders\u001b[0m\u001b[1;33m=\u001b[0m\u001b[0mtrader\u001b[0m\u001b[1;33m.\u001b[0m\u001b[0mtrade\u001b[0m\u001b[1;33m(\u001b[0m\u001b[0mdbars\u001b[0m\u001b[1;33m)\u001b[0m\u001b[1;33m\u001b[0m\u001b[1;33m\u001b[0m\u001b[0m\n\u001b[0m\u001b[0;32m    278\u001b[0m         \u001b[0mexecuteOrders\u001b[0m\u001b[1;33m(\u001b[0m\u001b[0morders\u001b[0m\u001b[1;33m,\u001b[0m\u001b[0mops\u001b[0m\u001b[1;33m,\u001b[0m\u001b[0mdbars\u001b[0m\u001b[1;33m)\u001b[0m\u001b[1;33m\u001b[0m\u001b[1;33m\u001b[0m\u001b[0m\n\u001b[0;32m    279\u001b[0m         \u001b[0mdbars\u001b[0m\u001b[1;33m=\u001b[0m\u001b[0mgetCurrBars\u001b[0m\u001b[1;33m(\u001b[0m\u001b[0mops\u001b[0m\u001b[1;33m,\u001b[0m\u001b[0mdbars\u001b[0m\u001b[1;33m)\u001b[0m\u001b[1;33m\u001b[0m\u001b[1;33m\u001b[0m\u001b[0m\n",
      "\u001b[1;32m<ipython-input-2-1da05d178889>\u001b[0m in \u001b[0;36mtrade\u001b[1;34m(self, dbars)\u001b[0m\n\u001b[0;32m     13\u001b[0m             \u001b[0mfree_shares\u001b[0m\u001b[1;33m=\u001b[0m\u001b[0mse\u001b[0m\u001b[1;33m.\u001b[0m\u001b[0mget_affor_shares\u001b[0m\u001b[1;33m(\u001b[0m\u001b[0masset\u001b[0m\u001b[1;33m,\u001b[0m\u001b[0mprice\u001b[0m\u001b[1;33m,\u001b[0m\u001b[0mmoney\u001b[0m\u001b[1;33m)\u001b[0m\u001b[1;33m\u001b[0m\u001b[1;33m\u001b[0m\u001b[0m\n\u001b[0;32m     14\u001b[0m             \u001b[0mrsi\u001b[0m\u001b[1;33m=\u001b[0m\u001b[0mse\u001b[0m\u001b[1;33m.\u001b[0m\u001b[0mtech\u001b[0m\u001b[1;33m.\u001b[0m\u001b[0mrsi\u001b[0m\u001b[1;33m(\u001b[0m\u001b[0mbars\u001b[0m\u001b[1;33m)\u001b[0m\u001b[1;33m\u001b[0m\u001b[1;33m\u001b[0m\u001b[0m\n\u001b[1;32m---> 15\u001b[1;33m             \u001b[1;32mif\u001b[0m \u001b[0mrsi\u001b[0m\u001b[1;33m>=\u001b[0m\u001b[1;36m70\u001b[0m \u001b[1;32mand\u001b[0m \u001b[0mfree_shares\u001b[0m\u001b[1;33m>\u001b[0m\u001b[1;36m0\u001b[0m\u001b[1;33m:\u001b[0m\u001b[1;33m\u001b[0m\u001b[1;33m\u001b[0m\u001b[0m\n\u001b[0m\u001b[0;32m     16\u001b[0m                 \u001b[0morder\u001b[0m\u001b[1;33m=\u001b[0m\u001b[0mse\u001b[0m\u001b[1;33m.\u001b[0m\u001b[0mbuyOrder\u001b[0m\u001b[1;33m(\u001b[0m\u001b[0masset\u001b[0m\u001b[1;33m,\u001b[0m\u001b[0mfree_shares\u001b[0m\u001b[1;33m)\u001b[0m\u001b[1;33m\u001b[0m\u001b[1;33m\u001b[0m\u001b[0m\n\u001b[0;32m     17\u001b[0m             \u001b[1;32melif\u001b[0m  \u001b[0mrsi\u001b[0m\u001b[1;33m<\u001b[0m\u001b[1;36m70\u001b[0m \u001b[1;32mand\u001b[0m \u001b[0mcurr_shares\u001b[0m\u001b[1;33m>\u001b[0m\u001b[1;36m0\u001b[0m\u001b[1;33m:\u001b[0m\u001b[1;33m\u001b[0m\u001b[1;33m\u001b[0m\u001b[0m\n",
      "\u001b[1;31mTypeError\u001b[0m: '>' not supported between instances of 'NoneType' and 'int'"
     ]
    }
   ],
   "source": [
    "#Connect to the Stock Exchange\n",
    "#se.connect()\n",
    "\n",
    "#executes the trader, according setup\n",
    "se.operations.run(trader,ops)"
   ]
  },
  {
   "source": [
    "## Next,  see our notebook about building AI based Autonomous Trader"
   ],
   "cell_type": "markdown",
   "metadata": {}
  }
 ]
}